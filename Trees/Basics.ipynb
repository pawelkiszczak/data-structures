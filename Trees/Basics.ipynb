{
 "cells": [
  {
   "cell_type": "markdown",
   "metadata": {},
   "source": [
    "## Trees"
   ]
  },
  {
   "cell_type": "markdown",
   "metadata": {},
   "source": [
    "A tree data structure has root, branches and leaves. The main difference between tree we know from nature is that the one in programming is upside-down - root is at the top while leaves are at the bottom."
   ]
  },
  {
   "cell_type": "markdown",
   "metadata": {},
   "source": [
    "<b>Second property</b> of trees is that all of the children of one node are independent of the children of another node.\n",
    "<br> \n",
    "<b>Third property</b> is that each leaf node is unique."
   ]
  },
  {
   "cell_type": "markdown",
   "metadata": {},
   "source": [
    "A common example of a tree in computer science is file system used on PC. That's why the 'top' folder is commonly called '/root'."
   ]
  },
  {
   "cell_type": "markdown",
   "metadata": {},
   "source": [
    "Basic vocabulary:<br>\n",
    "<b>'Key'</b> is the name of the node in the tree.<br>\n",
    "<b>'Payload'</b> is the additional information that a node may have. While payload information is not central to many tree algorithms, it is often critical in applications that make use of trees.<br>\n",
    "<b>'Edge'</b> is another fundamental part of the tree. It connects two nodes to show that there's some relationship between them. Every node (except the root) is connected by exactly one <b>incoming</b> edge from another node. Each node may have severeal <b>outgoing</b> edges.<br>\n",
    "<b>'Root'</b> is the only node that has no incoming edges.<br>\n",
    "<b>'Path'</b> is an ordered list of nodes that are connected by edges. An example of path can be: Mammal -> Carnivora -> Felidae -> Felis.<br>\n",
    "<b>'Children'</b> nodes are ones that have incoming edge from the same node (parent).<br>\n",
    "<b>'Parent'</b> is the node that connects a bunch of nodes with its outgoing edges.<br>\n",
    "<b>'Siblings'</b> are nodes in the tree that are children of the same parents.<br>\n",
    "<b>'Subtree'</b> is a set of nodes and edges comprised of a parent and all the descendants of that parent.<br>\n",
    "<b>'Leaf node'</b> is a node that has no children.<br>\n",
    "<b>'Level'</b> is the number of the edges on the path from the root node to the n-th node.<br>\n",
    "<b>'Height'</b> is the maximum level of any node in the given tree.<br>\n"
   ]
  },
  {
   "cell_type": "markdown",
   "metadata": {},
   "source": []
  }
 ],
 "metadata": {
  "kernelspec": {
   "display_name": "Python 3.10.4 64-bit",
   "language": "python",
   "name": "python3"
  },
  "language_info": {
   "name": "python",
   "version": "3.10.4"
  },
  "orig_nbformat": 4,
  "vscode": {
   "interpreter": {
    "hash": "7e1998ff7f8aa20ada591c520b972326324e5ea05489af9e422744c7c09f6dad"
   }
  }
 },
 "nbformat": 4,
 "nbformat_minor": 2
}
