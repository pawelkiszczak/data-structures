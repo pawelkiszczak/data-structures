{
 "cells": [
  {
   "cell_type": "markdown",
   "metadata": {},
   "source": [
    "# Tree representation <br><br>\n",
    "## Nodes and references\n"
   ]
  },
  {
   "cell_type": "code",
   "execution_count": 1,
   "metadata": {},
   "outputs": [],
   "source": [
    "class BinaryTree(object):\n",
    "\n",
    "\t# thing to remember - left and right will be references\n",
    "\t# to another instances of a binary tree\n",
    "\n",
    "\tdef __init__(self, rootObj):\n",
    "\n",
    "\t\tself.key = rootObj\n",
    "\t\tself.leftChild = None\n",
    "\t\tself.rightChild = None\n",
    "\t\n",
    "\tdef insertLeft(self, newNode):\n",
    "\n",
    "\t\t# no existing leftChild\n",
    "\t\tif self.leftChild == None:\n",
    "\t\t\tself.leftChild = BinaryTree(newNode)\n",
    "\n",
    "\t\t# existing leftChild\n",
    "\t\t# add leftChild and push child one level down the tree\n",
    "\t\telse:\n",
    "\t\t\tt = BinaryTree(newNode)\n",
    "\t\t\tt.leftChild = self.leftChild\n",
    "\t\t\tself.leftChild = t\n",
    "\n",
    "\tdef insertRight(self, newNode):\n",
    "\t\t\n",
    "\t\t# logic as with leftChild\n",
    "\t\tif self.rightChild == None:\n",
    "\t\t\tself.rightChild = BinaryTree(newNode)\n",
    "\n",
    "\t\telse:\n",
    "\t\t\tt = BinaryTree(newNode)\n",
    "\t\t\tt.rightChild = self.rightChild\n",
    "\t\t\tself.rightChild = t\n",
    "\t\n",
    "\tdef getRightChild(self):\n",
    "\t\treturn self.rightChild\n",
    "\t\n",
    "\tdef getLeftChild(self):\n",
    "\t\treturn self.leftChild\n",
    "\n",
    "\tdef setRootVal(self, obj):\n",
    "\t\tself.key = obj\n",
    "\t\n",
    "\tdef getRootVal(self):\n",
    "\t\treturn self.key"
   ]
  },
  {
   "cell_type": "code",
   "execution_count": 2,
   "metadata": {},
   "outputs": [],
   "source": [
    "r = BinaryTree('a')"
   ]
  },
  {
   "cell_type": "code",
   "execution_count": 5,
   "metadata": {},
   "outputs": [
    {
     "data": {
      "text/plain": [
       "'a'"
      ]
     },
     "execution_count": 5,
     "metadata": {},
     "output_type": "execute_result"
    }
   ],
   "source": [
    "r.getRootVal()"
   ]
  },
  {
   "cell_type": "code",
   "execution_count": 6,
   "metadata": {},
   "outputs": [],
   "source": [
    "r.insertLeft('b')"
   ]
  },
  {
   "cell_type": "code",
   "execution_count": 9,
   "metadata": {},
   "outputs": [
    {
     "data": {
      "text/plain": [
       "'b'"
      ]
     },
     "execution_count": 9,
     "metadata": {},
     "output_type": "execute_result"
    }
   ],
   "source": [
    "# with this system we refer to subtrees, not particular nodes\n",
    "r.getLeftChild().getRootVal()"
   ]
  }
 ],
 "metadata": {
  "kernelspec": {
   "display_name": "Python 3.10.4 64-bit",
   "language": "python",
   "name": "python3"
  },
  "language_info": {
   "codemirror_mode": {
    "name": "ipython",
    "version": 3
   },
   "file_extension": ".py",
   "mimetype": "text/x-python",
   "name": "python",
   "nbconvert_exporter": "python",
   "pygments_lexer": "ipython3",
   "version": "3.10.4"
  },
  "orig_nbformat": 4,
  "vscode": {
   "interpreter": {
    "hash": "7e1998ff7f8aa20ada591c520b972326324e5ea05489af9e422744c7c09f6dad"
   }
  }
 },
 "nbformat": 4,
 "nbformat_minor": 2
}
