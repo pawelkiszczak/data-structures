{
 "cells": [
  {
   "cell_type": "markdown",
   "metadata": {},
   "source": [
    "# Priority Queues and Binary Heaps"
   ]
  },
  {
   "cell_type": "markdown",
   "metadata": {},
   "source": [
    "One important variation of a queue is called a <b>priority queue</b>.<br>\n",
    "This kind of queue acts like a queue in which you dequeue an intem by removing it from front. However, in a priority queue the logical order of items inside a queue is determind by their priotity.<br><br>\n",
    "The highest priority items are at the front of the queue and the lowest priority items are at the back. When you enqueue an item on a priority queue, the new item may move all the way to the front.<br><br>\n",
    "A classic way to implement a priority queue is using a data structure called a <b>binary heap</b>. This solution will allow to both enqueue and dequeue items in O(logn) time."
   ]
  },
  {
   "cell_type": "markdown",
   "metadata": {},
   "source": [
    "The binary heap always has two common variarions: <b>min heap</b> in which the smalles key is alawys at the front and the <b>max heap</b> where the largest key is always at the front."
   ]
  },
  {
   "cell_type": "markdown",
   "metadata": {},
   "source": []
  }
 ],
 "metadata": {
  "kernelspec": {
   "display_name": "Python 3.8.13 ('tf')",
   "language": "python",
   "name": "python3"
  },
  "language_info": {
   "name": "python",
   "version": "3.8.13"
  },
  "orig_nbformat": 4,
  "vscode": {
   "interpreter": {
    "hash": "d367252aca884e23f81130dad2083ec3806b0ff7a53bcf4250eede2c3675ae7a"
   }
  }
 },
 "nbformat": 4,
 "nbformat_minor": 2
}
