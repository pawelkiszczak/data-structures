{
 "cells": [
  {
   "cell_type": "markdown",
   "metadata": {},
   "source": [
    "# Priority Queues and Binary Heaps"
   ]
  },
  {
   "cell_type": "markdown",
   "metadata": {},
   "source": [
    "One important variation of a queue is called a <b>priority queue</b>.<br>\n",
    "This kind of queue acts like a queue in which you dequeue an intem by removing it from front. However, in a priority queue the logical order of items inside a queue is determind by their priotity.<br><br>\n",
    "The highest priority items are at the front of the queue and the lowest priority items are at the back. When you enqueue an item on a priority queue, the new item may move all the way to the front.<br><br>\n",
    "A classic way to implement a priority queue is using a data structure called a <b>binary heap</b>. This solution will allow to both enqueue and dequeue items in O(logn) time."
   ]
  },
  {
   "cell_type": "markdown",
   "metadata": {},
   "source": [
    "The binary heap always has two common variarions: <b>min heap</b> in which the smalles key is alawys at the front and the <b>max heap</b> where the largest key is always at the front."
   ]
  },
  {
   "cell_type": "markdown",
   "metadata": {},
   "source": [
    "## Implementing a Heap"
   ]
  },
  {
   "cell_type": "markdown",
   "metadata": {},
   "source": [
    "In order to make our heat work efficiently, we will take advantage of the logarythmic nature of the binary tree to represent our heap. So to guarantee logarythmic performance, we must keep out tree balanced.<br>\n",
    "This means that our binary tree has to have roughly the same number of nodes in the left and right subtrees of the root. In our heap implementation we keep the tree balanced by creating a <b>complete binary tree</b>. It's s kind of tree in which each level has all of its nodes."
   ]
  },
  {
   "cell_type": "markdown",
   "metadata": {},
   "source": [
    "Important rule to remember is that a binary heap can be represented as a simple array, not even as array of arrays. What's more important, there's a simple rule to follow whether to find the children of a parent.<br><br>\n",
    "Assuming that parent has position <i>p</i>, his left child will be at position <i>2 * p</i> and the right child will be at position <i>2 * p + 1</i>.<br><br>\n",
    "Basic implementation is mentioned below:"
   ]
  },
  {
   "cell_type": "code",
   "execution_count": 1,
   "metadata": {},
   "outputs": [],
   "source": [
    "# list representation in the code\n",
    "class BinHeap:\n",
    "\n",
    "\tdef __init__(self):\n",
    "\n",
    "\t\t# empty heap list\n",
    "\t\tself.heapList = [0]\n",
    "\t\t# default heap size\n",
    "\t\tself.currentSize = 0\n"
   ]
  },
  {
   "cell_type": "markdown",
   "metadata": {},
   "source": [
    "Next method to implement is <b>insert</b>. The easiest way and the most efficient one is to simply append an item to the end of the list.<br><br>\n",
    "The good news about appending idea is that it guarantees that we will maintain the complete tree property.<br><br>\n",
    "On the other hand, the bad news is that we will bery likely violate the heap structure property."
   ]
  },
  {
   "cell_type": "markdown",
   "metadata": {},
   "source": [
    "However at the end of the day it's possible to write a method that will allow us to regain the structure as it should by comparing the newly added item with its parent. If the newly added item is less than its parent, the we can swap the item with its parent.<br><br>"
   ]
  },
  {
   "cell_type": "code",
   "execution_count": null,
   "metadata": {},
   "outputs": [],
   "source": [
    "# method for insertion\n",
    "def percUp(self, i):\n",
    "\n",
    "\twhile i // 2 > 0:\n",
    "\n",
    "\t\t# if the newly added item is less than parent\n",
    "\t\tif self.heapList[i] < self.heapList[i // 2]:\n",
    "\t\t\t\n",
    "\t\t\t# swap the newly added item with the parent\n",
    "\t\t\ttmp = self.heapList[i // 2]\n",
    "\t\t\tself.heapList[i // 2] = self.heapList[i]\n",
    "\t\t\tself.heapList[i] = tmp\n",
    "\t\t\t\n",
    "\t\ti = i // 2"
   ]
  },
  {
   "cell_type": "code",
   "execution_count": null,
   "metadata": {},
   "outputs": [],
   "source": [
    "# method for insertion, part 2\n",
    "def insert(self, k):\n",
    "\n",
    "\t# appending an item to the end and increasing the size of heap\n",
    "\tself.heapList.append(k)\n",
    "\tself.currentSize = self.currentSize + 1\n",
    "\n",
    "\t# calling out percUp method to resolve the right structure\n",
    "\tself.percUp(self.currentSize)"
   ]
  },
  {
   "cell_type": "markdown",
   "metadata": {},
   "source": [
    "After inserting, next method to look after is <b>delMin</b>. Since the heap's property requires that the root is the smallest item, finding it should not be that big of a deal. The hard part of this method is to restore the full compliance of the tree with heap structure and heap order after removing the root.<br><br>\n",
    "The order can be restored in two steps.<br>\n",
    "<b>First step</b> is to take the last item in the list and move it to the root position. It helps to maintain the structure of the heap as it should properly look like. However what it also does is destroying the order property of the heap itself.<br>\n",
    "<b>Second step</b> is to push the new root node down the tree to its proper position. It'll allow to restore the order in our binary heap."
   ]
  },
  {
   "cell_type": "markdown",
   "metadata": {},
   "source": [
    "So in order to maintain the heap order property, all we need to do is to swap the root with its smallest child that's less than a root. After the initial swap we may repeat the swapping process with a node and its children until the node is swapped into a position on the tree where it is already less than both children."
   ]
  },
  {
   "cell_type": "code",
   "execution_count": null,
   "metadata": {},
   "outputs": [],
   "source": [
    "# percolating the node down the tree\n",
    "def percDown(self, i):\n",
    "\n",
    "\twhile (i * 2) <= self.currentSize:\n",
    "\t\tmc = self.minChild(i)\n",
    "\n",
    "\tif self.heapList[i] > self.heapList[mc]:\n",
    "\t\ttmp = self.heapList[i]\n",
    "\t\tself.heapList[i] = self.heapList[mc]\n",
    "\t\tself.heapList[mc] = tmp\n",
    "\n",
    "\ti = mc\n",
    "\n",
    "def minChild(self, i):\n",
    "\n",
    "\tif i * 2 + 1 > self.currentSize:\n",
    "\t\treturn i * 2\n",
    "\n",
    "\telse:\n",
    "\t\t\n",
    "\t\tif self.heapList[i * 2] < self.heapList[i * 2 + 1]:\n",
    "\t\t\treturn i * 2\n",
    "\t\t\n",
    "\t\telse:\n",
    "\t\t\treturn i * 2 + 1"
   ]
  },
  {
   "cell_type": "code",
   "execution_count": null,
   "metadata": {},
   "outputs": [],
   "source": [
    "# now deleting the minimum value what was the original task\n",
    "def delMin(self):\n",
    "\n",
    "\t# taking the root node since it's the smallest\n",
    "\tretval = self.heapList[1]\n",
    "\n",
    "\t# attaching the last item to the root node\n",
    "\tself.heapList[1] = self.heapList[self.currentSize]\n",
    "\n",
    "\t# decreasing the size of the heap\n",
    "\tself.currentSize = self.currentSize - 1\n",
    "\n",
    "\t# deleting the last item\n",
    "\tself.heapList.pop()\n",
    "\n",
    "\t# percolating the root down the heap\n",
    "\tself.percDown(1)\n",
    "\n",
    "\treturn retval"
   ]
  },
  {
   "cell_type": "markdown",
   "metadata": {},
   "source": [
    "To sum up the discussion about binary heaps, let's take a look at a method the build an entire heap from a list of keys. Examplary method you'd may have thought about can be as following.<br><br>\n",
    "Given a list of keys, you could easily build a heap by inserting each key one at a time. Since you are starting what a list of one item, the list is sorted and you could use binary search to find the right position the insert the next key at a cost of approx. <b>O(logn)</b> operations.<br><br>\n",
    "However inserting an item in the middle of the list may require O(n) operations to shift the rest of the list to make room for the new key. Due to this, to insert <i>n</n> keys into the heap would require a total of <b>O(nlogn)</b> operations. But if we start with an entire list then we an build the whole heap in <b>O(n)</b> operations."
   ]
  },
  {
   "cell_type": "code",
   "execution_count": null,
   "metadata": {},
   "outputs": [],
   "source": [
    "def buildHeap(self, alist):\n",
    "\n",
    "\t# number of levels in the heap?\n",
    "\ti = len(alist) // 2\n",
    "\n",
    "\t# heap size is the size of list\n",
    "\tself.currentSize = len(alist)\n",
    "\n",
    "\t# creating the heap out of the list\n",
    "\tself.heapList = [0] + alist[:]\n",
    "\n",
    "\t# sorting the heap\n",
    "\twhile i > 0:\n",
    "\t\tself.percDown(i)\n",
    "\t\ti = i - 1"
   ]
  }
 ],
 "metadata": {
  "kernelspec": {
   "display_name": "Python 3.10.4 64-bit",
   "language": "python",
   "name": "python3"
  },
  "language_info": {
   "name": "python",
   "version": "3.10.4"
  },
  "orig_nbformat": 4,
  "vscode": {
   "interpreter": {
    "hash": "7e1998ff7f8aa20ada591c520b972326324e5ea05489af9e422744c7c09f6dad"
   }
  }
 },
 "nbformat": 4,
 "nbformat_minor": 2
}
