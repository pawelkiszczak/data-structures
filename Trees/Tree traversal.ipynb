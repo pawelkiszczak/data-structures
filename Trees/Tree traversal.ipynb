{
 "cells": [
  {
   "cell_type": "markdown",
   "metadata": {},
   "source": [
    "# Tree Traversal\n"
   ]
  },
  {
   "cell_type": "markdown",
   "metadata": {},
   "source": [
    "There are commonly used patterns to visit all nodes in a tree. The difference between these patterns is the order in which each node is visited - so a 'traversal'.\n",
    "<br><br>\n",
    "The tree traversal methods we'll take a look at are called <b>preorder</b>, <b>inorder</b>, <b>postorder</b>."
   ]
  },
  {
   "cell_type": "markdown",
   "metadata": {},
   "source": [
    "## Preorder<br>\n",
    "In a preorder traversal we visit the root node first, then recursively do a preorder traversal of left subtree, followed by a revursive preorder traversal of the right subtree."
   ]
  },
  {
   "cell_type": "markdown",
   "metadata": {},
   "source": [
    "## Inorder<br>\n",
    "In an inorder traversal we recursively do an inorder traversal on the left subtree, visit the root node, and finally do a recursive inorder traversal of the right tree."
   ]
  },
  {
   "cell_type": "markdown",
   "metadata": {},
   "source": [
    "## Postorder<br>\n",
    "In a postorder traversal we recursively do a postorder traversal of the left subtree and the right subtree followed by a visit to the root node."
   ]
  },
  {
   "cell_type": "code",
   "execution_count": 1,
   "metadata": {},
   "outputs": [],
   "source": [
    "# example of preorder implementation\n",
    "\n",
    "def preorder(tree):\n",
    "\n",
    "\t# checking if tree exists\n",
    "\tif tree:\n",
    "\t\t\n",
    "\t\tprint(tree.getRootVal())\n",
    "\t\tpreorder(tree.getLeftChild())\n",
    "\t\tpreorder(tree.getRightChild())"
   ]
  },
  {
   "cell_type": "code",
   "execution_count": null,
   "metadata": {},
   "outputs": [],
   "source": [
    "# implementation in a BinaryTree class\n",
    "\n",
    "def preorder(self):\n",
    "\tprint(self.key)\n",
    "\n",
    "\tif self.leftChild:\n",
    "\t\tself.leftChild.preorder()\n",
    "\n",
    "\tif self.rightChild:\n",
    "\t\tself.rightChild.preorder()"
   ]
  },
  {
   "cell_type": "markdown",
   "metadata": {},
   "source": [
    "While wondering which approach (function outside the class or method inside the class) probably it's better to use the function for now in this case. That's because in most cases you'd like to achieve something else than just traversing a tree in a given pattern. Due to this, a function outside the class is more flexible approach."
   ]
  },
  {
   "cell_type": "code",
   "execution_count": 3,
   "metadata": {},
   "outputs": [],
   "source": [
    "def postorder(tree):\n",
    "\n",
    "\t# checking if tree exists\n",
    "\tif tree != None:\n",
    "\n",
    "\t\tpostorder(tree.getLeftChild())\n",
    "\t\tpostorder(tree.getRightChild())\n",
    "\n",
    "\t\t# printout last in order\n",
    "\t\tprint(tree.geetRootVal())"
   ]
  },
  {
   "cell_type": "code",
   "execution_count": null,
   "metadata": {},
   "outputs": [],
   "source": [
    "def inorder(tree):\n",
    "\tif tree != None:\n",
    "\t\tinorder(tree.getLeftChild())\n",
    "\t\tprint(tree.getRootVal())\n",
    "\t\tinorder(tree.getRightChild())"
   ]
  },
  {
   "cell_type": "markdown",
   "metadata": {},
   "source": [
    "It's easily visible that the main difference is the print order. "
   ]
  }
 ],
 "metadata": {
  "kernelspec": {
   "display_name": "Python 3.10.4 64-bit",
   "language": "python",
   "name": "python3"
  },
  "language_info": {
   "codemirror_mode": {
    "name": "ipython",
    "version": 3
   },
   "file_extension": ".py",
   "mimetype": "text/x-python",
   "name": "python",
   "nbconvert_exporter": "python",
   "pygments_lexer": "ipython3",
   "version": "3.10.4"
  },
  "orig_nbformat": 4,
  "vscode": {
   "interpreter": {
    "hash": "7e1998ff7f8aa20ada591c520b972326324e5ea05489af9e422744c7c09f6dad"
   }
  }
 },
 "nbformat": 4,
 "nbformat_minor": 2
}
