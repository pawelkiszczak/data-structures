{
 "cells": [
  {
   "cell_type": "code",
   "execution_count": null,
   "id": "51315512",
   "metadata": {},
   "outputs": [],
   "source": [
    "# Anagram check\n",
    "# Given two strings check to see if they are anagrams\n",
    "# An anagram is when two strings can be written using the exact same letters\n",
    "# So you can rearrange the letters to get a different phrase of word"
   ]
  },
  {
   "cell_type": "code",
   "execution_count": 42,
   "id": "31f53d45",
   "metadata": {},
   "outputs": [],
   "source": [
    "def anagram(str1, str2):\n",
    "    str1 = str1.lower().replace(\" \", \"\")\n",
    "    str2 = str2.lower().replace(\" \", \"\")\n",
    "    \n",
    "    if len(str1) != len(str2):\n",
    "        return False\n",
    "    \n",
    "    for letter in str1:\n",
    "        str2 = str2.replace(letter, \"\")\n",
    "        \n",
    "    if len(str2) == 0:\n",
    "        return True\n",
    "    \n",
    "    return False"
   ]
  },
  {
   "cell_type": "code",
   "execution_count": 43,
   "id": "210da341",
   "metadata": {},
   "outputs": [
    {
     "data": {
      "text/plain": [
       "True"
      ]
     },
     "execution_count": 43,
     "metadata": {},
     "output_type": "execute_result"
    }
   ],
   "source": [
    "anagram('public relations','crap built on lies')"
   ]
  },
  {
   "cell_type": "code",
   "execution_count": 45,
   "id": "c590495c",
   "metadata": {},
   "outputs": [
    {
     "data": {
      "text/plain": [
       "True"
      ]
     },
     "execution_count": 45,
     "metadata": {},
     "output_type": "execute_result"
    }
   ],
   "source": [
    "anagram('clint eastwood', 'old west action')"
   ]
  },
  {
   "cell_type": "code",
   "execution_count": 31,
   "id": "e292984d",
   "metadata": {},
   "outputs": [
    {
     "name": "stdout",
     "output_type": "stream",
     "text": [
      "true1\n"
     ]
    }
   ],
   "source": [
    "str1 = 'aC b'\n",
    "str2 = 'cBA '\n",
    "\n",
    "str1 = str1.lower().replace(\" \", \"\")\n",
    "str2 = str2.lower().replace(\" \", \"\")\n",
    "    \n",
    "if len(str1) != len(str2):\n",
    "    print('false1')\n",
    "  \n",
    "for letter in str1:\n",
    "    str2 = str2.replace(letter, \"\")\n",
    "           \n",
    "if len(str2) == 0:\n",
    "    print('true1')\n",
    "    \n",
    "else:\n",
    "    print('false2')"
   ]
  },
  {
   "cell_type": "code",
   "execution_count": 39,
   "id": "23795f0e",
   "metadata": {},
   "outputs": [],
   "source": [
    "# Suggested solution 1\n",
    "# if two strings are sorted and equal to each other\n",
    "# then they are anagrams\n",
    "\n",
    "def anagram(s1, s2):\n",
    "    s1 = s1.replace(' ','').lower()\n",
    "    s2 = s2.replace(' ','').lower()\n",
    "    \n",
    "    return sorted(s1) == sorted(s2)"
   ]
  },
  {
   "cell_type": "code",
   "execution_count": 40,
   "id": "cf416500",
   "metadata": {},
   "outputs": [
    {
     "data": {
      "text/plain": [
       "True"
      ]
     },
     "execution_count": 40,
     "metadata": {},
     "output_type": "execute_result"
    }
   ],
   "source": [
    "anagram('public relations','crap built on lies')"
   ]
  },
  {
   "cell_type": "code",
   "execution_count": 41,
   "id": "516ed312",
   "metadata": {},
   "outputs": [
    {
     "data": {
      "text/plain": [
       "True"
      ]
     },
     "execution_count": 41,
     "metadata": {},
     "output_type": "execute_result"
    }
   ],
   "source": [
    "anagram('dog', 'GOd')"
   ]
  },
  {
   "cell_type": "code",
   "execution_count": null,
   "id": "fcbbe8e1",
   "metadata": {},
   "outputs": [],
   "source": [
    "# Suggested solution 2\n",
    "# creating a dictionary with count of each letter\n",
    "# then we substract and check if every letter is 0\n",
    "def anagram2(s1, s2):\n",
    "    s1 = s1.replace(' ','').lower()\n",
    "    s2 = s2.replace(' ','').lower()\n",
    "    \n",
    "    # edge case check\n",
    "    if len(s1) != len(s2):\n",
    "        return False\n",
    "    \n",
    "    count = {}\n",
    "    \n",
    "    for letter in s1:\n",
    "        if letter in count:\n",
    "            count[letter] += 1\n",
    "        else:\n",
    "            count[letter] = 1\n",
    "            \n",
    "    for letter in s2:\n",
    "        if letter in count:\n",
    "            count[letter] -= 1\n",
    "        else:\n",
    "            count[letter] = 1\n",
    "            \n",
    "    for k in count:\n",
    "        if count[k] != 0:\n",
    "            return False\n",
    "        \n",
    "    return True"
   ]
  }
 ],
 "metadata": {
  "kernelspec": {
   "display_name": "Python 3 (ipykernel)",
   "language": "python",
   "name": "python3"
  },
  "language_info": {
   "codemirror_mode": {
    "name": "ipython",
    "version": 3
   },
   "file_extension": ".py",
   "mimetype": "text/x-python",
   "name": "python",
   "nbconvert_exporter": "python",
   "pygments_lexer": "ipython3",
   "version": "3.10.4"
  }
 },
 "nbformat": 4,
 "nbformat_minor": 5
}
