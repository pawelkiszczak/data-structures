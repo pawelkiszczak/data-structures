{
 "cells": [
  {
   "cell_type": "code",
   "execution_count": 1,
   "id": "94087b71",
   "metadata": {},
   "outputs": [],
   "source": [
    "# String Compression\n",
    "# Given the string \"AAAABBCCCCCDDEEEE\" compress it to a form of\n",
    "# \"A4B2C5D2E4\"\n",
    "# For this problem you can falsely compress strings with single or double letters\n",
    "# So the 'AAB' can output 'A2B1'\n",
    "# Remember to make the function case sensitive"
   ]
  },
  {
   "cell_type": "code",
   "execution_count": 101,
   "id": "d12f0010",
   "metadata": {},
   "outputs": [],
   "source": [
    "def compress(s):\n",
    "    \n",
    "    result = []\n",
    "    \n",
    "    letter_counter = 1\n",
    "    \n",
    "    i = 1\n",
    "    \n",
    "    while i < len(s):\n",
    "                \n",
    "        if s[i-1] == s[i]:\n",
    "            letter_counter += 1\n",
    "                        \n",
    "        if s[i-1] != s[i]:\n",
    "            if letter_counter > 2:\n",
    "                result.append(s[i-1])\n",
    "                result.append(str(letter_counter))\n",
    "                letter_counter = 1\n",
    "            \n",
    "            elif letter_counter == 1:\n",
    "                result.append(s[i-1])\n",
    "                \n",
    "            elif letter_counter == 2:\n",
    "                result.append(s[i-1])\n",
    "                result.append(s[i-1])\n",
    "                letter_counter = 1\n",
    "                  \n",
    "        i += 1\n",
    "    \n",
    "    if letter_counter == 1:\n",
    "        result.append(s[i])\n",
    "        \n",
    "    elif letter_counter == 2:\n",
    "        result.append(s[i-2])\n",
    "        result.append(s[i-1])\n",
    "        \n",
    "    elif letter_counter > 2:\n",
    "        result.append(s[i-1])\n",
    "        result.append(str(letter_counter))\n",
    "            \n",
    "    return print(''.join(result))"
   ]
  },
  {
   "cell_type": "code",
   "execution_count": 112,
   "id": "fd950173",
   "metadata": {
    "scrolled": true
   },
   "outputs": [
    {
     "data": {
      "text/plain": [
       "'A2b3S1E2e1E1e3'"
      ]
     },
     "execution_count": 112,
     "metadata": {},
     "output_type": "execute_result"
    }
   ],
   "source": [
    "compress('AAbbbSEEeEeee')"
   ]
  },
  {
   "cell_type": "code",
   "execution_count": 110,
   "id": "030853cb",
   "metadata": {},
   "outputs": [],
   "source": [
    "# Suggested solution\n",
    "\n",
    "# This solution compresses without checking. Known also\n",
    "# as the RunLength Algorithm\n",
    "\n",
    "def compress(s):\n",
    "    \n",
    "    # begin run as empty string\n",
    "    r = ''\n",
    "    l = len(s)\n",
    "    \n",
    "    # check for length 0\n",
    "    if l == 0:\n",
    "        return ''\n",
    "    \n",
    "    # check for length 1\n",
    "    if l == 1:\n",
    "        return s + '1'\n",
    "    \n",
    "    # initialize values\n",
    "    last = s[0]\n",
    "    cnt = 1\n",
    "    i = 1\n",
    "    \n",
    "    while i < l:\n",
    "        \n",
    "        # check to see if it is the same letter\n",
    "        if s[i] == s[i-1]:\n",
    "            # add a count if same as previous\n",
    "            cnt += 1\n",
    "        \n",
    "        else:\n",
    "            # otherwise store the previous data\n",
    "            r = r + s[i-1] + str(cnt)\n",
    "            cnt = 1\n",
    "        \n",
    "        i += 1\n",
    "    \n",
    "    r = r + s[i-1] + str(cnt)\n",
    "    return r"
   ]
  },
  {
   "cell_type": "code",
   "execution_count": 111,
   "id": "e9167686",
   "metadata": {},
   "outputs": [
    {
     "data": {
      "text/plain": [
       "'A2B1'"
      ]
     },
     "execution_count": 111,
     "metadata": {},
     "output_type": "execute_result"
    }
   ],
   "source": [
    "compress('AAB')"
   ]
  },
  {
   "cell_type": "code",
   "execution_count": null,
   "id": "3b10b362",
   "metadata": {},
   "outputs": [],
   "source": []
  }
 ],
 "metadata": {
  "kernelspec": {
   "display_name": "Python 3 (ipykernel)",
   "language": "python",
   "name": "python3"
  },
  "language_info": {
   "codemirror_mode": {
    "name": "ipython",
    "version": 3
   },
   "file_extension": ".py",
   "mimetype": "text/x-python",
   "name": "python",
   "nbconvert_exporter": "python",
   "pygments_lexer": "ipython3",
   "version": "3.10.4"
  }
 },
 "nbformat": 4,
 "nbformat_minor": 5
}
