{
 "cells": [
  {
   "cell_type": "code",
   "execution_count": 1,
   "id": "1f2e4f9c",
   "metadata": {},
   "outputs": [],
   "source": [
    "# Find the missing element\n",
    "# Consider an array of non-negative integers\n",
    "# A second array is formed by shuffling the elements of the first array and deleting a random element\n",
    "# Given those arrays, find which element is missing in the second array\n",
    "\n",
    "# Example\n",
    "# finder([1,2,3,4,5,6,7],[2,3,1,5,6,7])\n",
    "# output: 4 is the missing item"
   ]
  },
  {
   "cell_type": "code",
   "execution_count": 31,
   "id": "9358b9c6",
   "metadata": {},
   "outputs": [],
   "source": [
    "def finder(arr1, arr2):\n",
    "    arr1 = sorted(arr1)\n",
    "    arr2 = sorted(arr2)\n",
    "    \n",
    "    #print(arr1, arr2)\n",
    "    \n",
    "    for i in range(0, len(arr1)):\n",
    "        if arr1[i] != arr2[i]:\n",
    "            return arr1[i]\n",
    "    "
   ]
  },
  {
   "cell_type": "code",
   "execution_count": 40,
   "id": "816f1faf",
   "metadata": {},
   "outputs": [
    {
     "data": {
      "text/plain": [
       "6"
      ]
     },
     "execution_count": 40,
     "metadata": {},
     "output_type": "execute_result"
    }
   ],
   "source": [
    "finder([1,2,3,4,5,7,6],[2,3,1,5,7,4])"
   ]
  },
  {
   "cell_type": "code",
   "execution_count": 39,
   "id": "bdc12244",
   "metadata": {},
   "outputs": [
    {
     "data": {
      "text/plain": [
       "6"
      ]
     },
     "execution_count": 39,
     "metadata": {},
     "output_type": "execute_result"
    }
   ],
   "source": [
    "finder([9,8,7,6,5,4,3,2,1],[9,8,7,5,4,3,2,1])"
   ]
  },
  {
   "cell_type": "code",
   "execution_count": 29,
   "id": "17cf0a42",
   "metadata": {},
   "outputs": [],
   "source": [
    "# Suggested solution 1\n",
    "def finder(arr1, arr2):\n",
    "    \n",
    "    arr1.sort()\n",
    "    arr2.sort()\n",
    "    \n",
    "    for num1, num2 in zip(arr1, arr2):\n",
    "        if num1 != num2:\n",
    "            return num1\n",
    "        \n",
    "    return arr[-1]"
   ]
  },
  {
   "cell_type": "code",
   "execution_count": 22,
   "id": "c03a70dd",
   "metadata": {},
   "outputs": [],
   "source": [
    "import collections"
   ]
  },
  {
   "cell_type": "code",
   "execution_count": 38,
   "id": "d37beb01",
   "metadata": {},
   "outputs": [],
   "source": [
    "# Suggested solution 2\n",
    "def finder(arr1, arr2):\n",
    "    \n",
    "    # Default Dictionary, helps us avoid KeyErrors\n",
    "    # If key is not in dictionary, it gets added    \n",
    "    d = collections.defaultdict(int)\n",
    "    \n",
    "    for num in arr2:\n",
    "        d[num] += 1\n",
    "        \n",
    "    for num in arr1:\n",
    "        if d[num] == 0:\n",
    "            return num\n",
    "        \n",
    "        else:\n",
    "            d[num] -= 1\n",
    "        "
   ]
  },
  {
   "cell_type": "code",
   "execution_count": 35,
   "id": "31d0f2a8",
   "metadata": {},
   "outputs": [],
   "source": [
    "# Suggested solution 3\n",
    "# Using a XOR -> if the values differ, it return True\n",
    "def finder(arr1, arr2):\n",
    "    result = 0\n",
    "    \n",
    "    # Performing a XOR between numbers in the arrays\n",
    "    for num in arr1+arr2:\n",
    "        result ^= num\n",
    "        print (result)\n",
    "    \n",
    "    return result"
   ]
  },
  {
   "cell_type": "code",
   "execution_count": null,
   "id": "5b1bc500",
   "metadata": {},
   "outputs": [],
   "source": []
  }
 ],
 "metadata": {
  "kernelspec": {
   "display_name": "Python 3 (ipykernel)",
   "language": "python",
   "name": "python3"
  },
  "language_info": {
   "codemirror_mode": {
    "name": "ipython",
    "version": 3
   },
   "file_extension": ".py",
   "mimetype": "text/x-python",
   "name": "python",
   "nbconvert_exporter": "python",
   "pygments_lexer": "ipython3",
   "version": "3.10.4"
  }
 },
 "nbformat": 4,
 "nbformat_minor": 5
}
