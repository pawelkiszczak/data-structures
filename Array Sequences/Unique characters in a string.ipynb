{
 "cells": [
  {
   "cell_type": "code",
   "execution_count": 1,
   "id": "8fd0cd94",
   "metadata": {},
   "outputs": [],
   "source": [
    "# Unique characters in string\n",
    "\n",
    "# Given a string determine if it is compreised of all\n",
    "# unique characters. For example 'abcde' should return True\n",
    "# while 'aabcde' should return False"
   ]
  },
  {
   "cell_type": "code",
   "execution_count": 34,
   "id": "7ba69e37",
   "metadata": {},
   "outputs": [],
   "source": [
    "import collections\n",
    "\n",
    "def uni_char(s):\n",
    "    d = collections.defaultdict(int)\n",
    "    \n",
    "    for letter in s:\n",
    "        d[letter] += 1\n",
    "        \n",
    "    if len(d.values()) == len(s):\n",
    "        return True\n",
    "\n",
    "    else:\n",
    "        return False"
   ]
  },
  {
   "cell_type": "code",
   "execution_count": 43,
   "id": "4d7c4b87",
   "metadata": {},
   "outputs": [
    {
     "data": {
      "text/plain": [
       "True"
      ]
     },
     "execution_count": 43,
     "metadata": {},
     "output_type": "execute_result"
    }
   ],
   "source": [
    "uni_char('qwerty123')"
   ]
  },
  {
   "cell_type": "code",
   "execution_count": 41,
   "id": "9ca5d4b2",
   "metadata": {},
   "outputs": [],
   "source": [
    "# Suggested solution - one liner\n",
    "def uni_char(s):\n",
    "    return len(set(s)) == len(s)"
   ]
  },
  {
   "cell_type": "code",
   "execution_count": 46,
   "id": "9b21413d",
   "metadata": {},
   "outputs": [],
   "source": [
    "# Suggested solution\n",
    "def uni_char2(s):\n",
    "    \n",
    "    chars = set()\n",
    "    \n",
    "    for let in s:\n",
    "        if let in chars:\n",
    "            return False\n",
    "        else:\n",
    "            chars.add(let)\n",
    "            \n",
    "    return True"
   ]
  },
  {
   "cell_type": "code",
   "execution_count": 49,
   "id": "cddd59f3",
   "metadata": {},
   "outputs": [
    {
     "data": {
      "text/plain": [
       "True"
      ]
     },
     "execution_count": 49,
     "metadata": {},
     "output_type": "execute_result"
    }
   ],
   "source": [
    "uni_char2('Paweł')"
   ]
  }
 ],
 "metadata": {
  "kernelspec": {
   "display_name": "Python 3.10.4 64-bit",
   "language": "python",
   "name": "python3"
  },
  "language_info": {
   "codemirror_mode": {
    "name": "ipython",
    "version": 3
   },
   "file_extension": ".py",
   "mimetype": "text/x-python",
   "name": "python",
   "nbconvert_exporter": "python",
   "pygments_lexer": "ipython3",
   "version": "3.10.4"
  },
  "vscode": {
   "interpreter": {
    "hash": "aee8b7b246df8f9039afb4144a1f6fd8d2ca17a180786b69acc140d282b71a49"
   }
  }
 },
 "nbformat": 4,
 "nbformat_minor": 5
}
