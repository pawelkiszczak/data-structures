{
 "cells": [
  {
   "cell_type": "code",
   "execution_count": 1,
   "id": "1191f08a",
   "metadata": {},
   "outputs": [],
   "source": [
    "# Recursion\n",
    "# n! = n * (n-1)!\n",
    "# if n=0 -> n=1"
   ]
  },
  {
   "cell_type": "code",
   "execution_count": 2,
   "id": "de034ed8",
   "metadata": {},
   "outputs": [],
   "source": [
    "def fact(n):\n",
    "    # base case\n",
    "    if n == 0:\n",
    "        return 1\n",
    "    \n",
    "    else:\n",
    "        # function in calling itself\n",
    "        return n * fact(n-1)"
   ]
  },
  {
   "cell_type": "code",
   "execution_count": 4,
   "id": "d19447a7",
   "metadata": {},
   "outputs": [
    {
     "data": {
      "text/plain": [
       "6"
      ]
     },
     "execution_count": 4,
     "metadata": {},
     "output_type": "execute_result"
    }
   ],
   "source": [
    "fact(3)"
   ]
  },
  {
   "cell_type": "code",
   "execution_count": null,
   "id": "02c73c7e",
   "metadata": {},
   "outputs": [],
   "source": [
    "# Exercise problems"
   ]
  },
  {
   "cell_type": "code",
   "execution_count": 5,
   "id": "147bcdf4",
   "metadata": {},
   "outputs": [],
   "source": [
    "# Problem 1\n",
    "# Write a recursive function which takes an integer and computes the cumulative\n",
    "# sum of 0 to that integer"
   ]
  },
  {
   "cell_type": "code",
   "execution_count": 6,
   "id": "f6d1004d",
   "metadata": {},
   "outputs": [],
   "source": [
    "def rec_sum(n):\n",
    "    \n",
    "    if n == 1:\n",
    "        return 1\n",
    "    \n",
    "    else:\n",
    "        return n + rec_sum(n-1)"
   ]
  },
  {
   "cell_type": "code",
   "execution_count": 9,
   "id": "488eb82b",
   "metadata": {},
   "outputs": [
    {
     "data": {
      "text/plain": [
       "21"
      ]
     },
     "execution_count": 9,
     "metadata": {},
     "output_type": "execute_result"
    }
   ],
   "source": [
    "rec_sum(6)"
   ]
  },
  {
   "cell_type": "code",
   "execution_count": 10,
   "id": "f8c3a564",
   "metadata": {},
   "outputs": [],
   "source": [
    "# Problem 2\n",
    "# Given an integer, create a function which returns the sum of all \n",
    "# the individual digits in that integer.\n",
    "# For example: n=4321, return 4+3+2+1"
   ]
  },
  {
   "cell_type": "code",
   "execution_count": 14,
   "id": "6480083c",
   "metadata": {},
   "outputs": [],
   "source": [
    "def sum_func(n): #123\n",
    "    \n",
    "    if n < 10: # no\n",
    "        return n\n",
    "    else:\n",
    "        rest = n % 10 # return 3\n",
    "        n = int(n/10)\n",
    "        return rest + sum_func(n)"
   ]
  },
  {
   "cell_type": "code",
   "execution_count": 17,
   "id": "e987a4d6",
   "metadata": {},
   "outputs": [
    {
     "data": {
      "text/plain": [
       "10"
      ]
     },
     "execution_count": 17,
     "metadata": {},
     "output_type": "execute_result"
    }
   ],
   "source": [
    "sum_func(4321)"
   ]
  },
  {
   "cell_type": "code",
   "execution_count": 18,
   "id": "c287b185",
   "metadata": {},
   "outputs": [],
   "source": [
    "# Problem 3\n",
    "# Create a function called word_split() which takes in a string phrase\n",
    "# and a set list_of_words. The function will then determine if it is possible\n",
    "# to split the string in a way which words can be made for the list of words.\n",
    "# You can assume the phrase will only contain words found in the dictionary it \n",
    "# is completely splittable\n",
    "\n",
    "# Examples:\n",
    "# word_split('themanran', ['the', 'ran', 'man'])\n",
    "# return: ['the', 'man', 'ran']\n",
    "\n",
    "# word_split('ilovedogsJohn', ['i','am','a','dogs','lover','love','John'])\n",
    "# return: ['i', 'love', 'dogs', 'John']\n",
    "\n",
    "# word_split('themanran',['clown','man','ran'])\n",
    "# return: []"
   ]
  },
  {
   "cell_type": "code",
   "execution_count": 21,
   "id": "5b157b09",
   "metadata": {},
   "outputs": [],
   "source": [
    "def word_split(phrase, word_list, output=None):\n",
    "    \n",
    "    # creating an empty list on first go of recursion\n",
    "    # is we'd use output=[] in declaration, list would overwrite itself\n",
    "    \n",
    "    if output == None:\n",
    "        output = []\n",
    "        \n",
    "    for word in word_list:\n",
    "        \n",
    "        # pythonic way - looking in phrase starts with any of the words\n",
    "        # normally we should go letter by letter\n",
    "        if phrase.startswith(word):\n",
    "            \n",
    "            # if it matches part in phrase, append to the output\n",
    "            output.append(word)\n",
    "            \n",
    "            # call the recursion on the remaining part of phrase\n",
    "            return word_split(phrase[len(word):], word_list, output)\n",
    "        \n",
    "    return output    "
   ]
  },
  {
   "cell_type": "code",
   "execution_count": 22,
   "id": "3594736d",
   "metadata": {},
   "outputs": [
    {
     "data": {
      "text/plain": [
       "['the', 'man', 'ran']"
      ]
     },
     "execution_count": 22,
     "metadata": {},
     "output_type": "execute_result"
    }
   ],
   "source": [
    "word_split('themanran', ['the', 'ran', 'man'])"
   ]
  },
  {
   "cell_type": "code",
   "execution_count": 23,
   "id": "e7acd121",
   "metadata": {},
   "outputs": [
    {
     "data": {
      "text/plain": [
       "['i', 'love', 'dogs', 'John']"
      ]
     },
     "execution_count": 23,
     "metadata": {},
     "output_type": "execute_result"
    }
   ],
   "source": [
    "word_split('ilovedogsJohn', ['i','am','a','dogs','lover','love','John'])"
   ]
  },
  {
   "cell_type": "code",
   "execution_count": null,
   "id": "0fcc0493",
   "metadata": {},
   "outputs": [],
   "source": []
  }
 ],
 "metadata": {
  "kernelspec": {
   "display_name": "Python 3 (ipykernel)",
   "language": "python",
   "name": "python3"
  },
  "language_info": {
   "codemirror_mode": {
    "name": "ipython",
    "version": 3
   },
   "file_extension": ".py",
   "mimetype": "text/x-python",
   "name": "python",
   "nbconvert_exporter": "python",
   "pygments_lexer": "ipython3",
   "version": "3.10.4"
  }
 },
 "nbformat": 4,
 "nbformat_minor": 5
}
