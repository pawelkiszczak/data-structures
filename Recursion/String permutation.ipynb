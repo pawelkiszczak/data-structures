{
 "cells": [
  {
   "cell_type": "code",
   "execution_count": 1,
   "id": "f66597d1",
   "metadata": {},
   "outputs": [],
   "source": [
    "# Given a string, write a function that uses recursion to output a list of all \n",
    "# the possible permutations of that string\n",
    "\n",
    "# Note: if a character is repeated, treat each occurence as distinct, for example\n",
    "# as input of 'xxx' would return 6 versions of 'xxx'"
   ]
  },
  {
   "cell_type": "code",
   "execution_count": 7,
   "id": "0a1ddf00",
   "metadata": {},
   "outputs": [],
   "source": [
    "def permute(s):\n",
    "    \n",
    "    out = []\n",
    "    \n",
    "    # base case\n",
    "    if len(s) == 1:\n",
    "        out = [s]\n",
    "    \n",
    "    # recursive case\n",
    "    else:\n",
    "        \n",
    "        # for every letter in string\n",
    "        for i, let in enumerate(s):\n",
    "            \n",
    "            # for every permutation resulting from step 2 and 3\n",
    "            for perm in permute(s[:i] + s[i+1:]):\n",
    "                \n",
    "                # add to the output\n",
    "                out += [let+perm]\n",
    "    \n",
    "    return out"
   ]
  },
  {
   "cell_type": "code",
   "execution_count": 8,
   "id": "1d8a6b8e",
   "metadata": {},
   "outputs": [
    {
     "data": {
      "text/plain": [
       "['123', '132', '213', '231', '312', '321']"
      ]
     },
     "execution_count": 8,
     "metadata": {},
     "output_type": "execute_result"
    }
   ],
   "source": [
    "permute('123')"
   ]
  },
  {
   "cell_type": "code",
   "execution_count": null,
   "id": "f6ca68f2",
   "metadata": {},
   "outputs": [],
   "source": []
  }
 ],
 "metadata": {
  "kernelspec": {
   "display_name": "Python 3 (ipykernel)",
   "language": "python",
   "name": "python3"
  },
  "language_info": {
   "codemirror_mode": {
    "name": "ipython",
    "version": 3
   },
   "file_extension": ".py",
   "mimetype": "text/x-python",
   "name": "python",
   "nbconvert_exporter": "python",
   "pygments_lexer": "ipython3",
   "version": "3.10.4"
  }
 },
 "nbformat": 4,
 "nbformat_minor": 5
}
