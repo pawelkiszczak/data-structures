{
 "cells": [
  {
   "cell_type": "code",
   "execution_count": null,
   "id": "8fa86c6c",
   "metadata": {},
   "outputs": [],
   "source": [
    "# Implement a Fibonacci Sequence in three different ways:\n",
    "# - recursively\n",
    "# - dynamically (using memoization / LUT)\n",
    "# - iterativelly"
   ]
  },
  {
   "cell_type": "code",
   "execution_count": null,
   "id": "24c73f3c",
   "metadata": {},
   "outputs": [],
   "source": [
    "# my solution\n",
    "def fib_iter(n):\n",
    "    \n",
    "    fib1 = 1\n",
    "    fib2 = 2\n",
    "    \n",
    "    if n == 1 or n == 2:\n",
    "        return 1\n",
    "    \n",
    "    else:\n",
    "        for i in range (3, n):\n",
    "            cache = fib1 + fib2\n",
    "            fib1 = fib2\n",
    "            fib2 = cache\n",
    "    \n",
    "    return fib2"
   ]
  },
  {
   "cell_type": "code",
   "execution_count": 10,
   "id": "1c9fa2be",
   "metadata": {},
   "outputs": [],
   "source": [
    "# suggested solution\n",
    "def fib_iter(n):\n",
    "    \n",
    "    a = 0\n",
    "    b = 1\n",
    "    \n",
    "    for i in range(n):\n",
    "        \n",
    "        # tuple unpacking\n",
    "        a, b = b, a+b\n",
    "    \n",
    "    return a"
   ]
  },
  {
   "cell_type": "code",
   "execution_count": 11,
   "id": "d59d5aef",
   "metadata": {},
   "outputs": [
    {
     "data": {
      "text/plain": [
       "55"
      ]
     },
     "execution_count": 11,
     "metadata": {},
     "output_type": "execute_result"
    }
   ],
   "source": [
    "fib_iter(10)"
   ]
  },
  {
   "cell_type": "code",
   "execution_count": 12,
   "id": "f71ebb80",
   "metadata": {},
   "outputs": [],
   "source": [
    "# suggested solution for recursive algo\n",
    "def fib_rec(n):\n",
    "        \n",
    "    # base case\n",
    "    if n == 0 or n == 1:\n",
    "        return n\n",
    "    \n",
    "    # recurvise case\n",
    "    else:\n",
    "        return fib_rec(n-1) + fib_rec(n-2) \n",
    "        "
   ]
  },
  {
   "cell_type": "code",
   "execution_count": 14,
   "id": "8dad3cb5",
   "metadata": {},
   "outputs": [
    {
     "data": {
      "text/plain": [
       "55"
      ]
     },
     "execution_count": 14,
     "metadata": {},
     "output_type": "execute_result"
    }
   ],
   "source": [
    "fib_rec(10)"
   ]
  },
  {
   "cell_type": "code",
   "execution_count": 15,
   "id": "14d49366",
   "metadata": {},
   "outputs": [],
   "source": [
    "# dynamic programming with memoization\n",
    "\n",
    "# instantiate cache information\n",
    "n = 10\n",
    "cache = [None] *(n+1)\n",
    "\n",
    "def fib_dyn(n):\n",
    "    \n",
    "    # base case\n",
    "    if n == 0 or n == 1:\n",
    "        return n\n",
    "    \n",
    "    # check cache\n",
    "    if cache[n] != None:\n",
    "        return cache[n]\n",
    "    \n",
    "    # keep setting cache\n",
    "    cache[n] = fib_dyn(n-1) + fib_dyn(n-2)\n",
    "    \n",
    "    return cache[n] "
   ]
  },
  {
   "cell_type": "code",
   "execution_count": 16,
   "id": "0c4bb608",
   "metadata": {},
   "outputs": [
    {
     "data": {
      "text/plain": [
       "55"
      ]
     },
     "execution_count": 16,
     "metadata": {},
     "output_type": "execute_result"
    }
   ],
   "source": [
    "fib_dyn(10)"
   ]
  },
  {
   "cell_type": "code",
   "execution_count": null,
   "id": "2b4b6c16",
   "metadata": {},
   "outputs": [],
   "source": []
  }
 ],
 "metadata": {
  "kernelspec": {
   "display_name": "Python 3 (ipykernel)",
   "language": "python",
   "name": "python3"
  },
  "language_info": {
   "codemirror_mode": {
    "name": "ipython",
    "version": 3
   },
   "file_extension": ".py",
   "mimetype": "text/x-python",
   "name": "python",
   "nbconvert_exporter": "python",
   "pygments_lexer": "ipython3",
   "version": "3.10.4"
  }
 },
 "nbformat": 4,
 "nbformat_minor": 5
}
