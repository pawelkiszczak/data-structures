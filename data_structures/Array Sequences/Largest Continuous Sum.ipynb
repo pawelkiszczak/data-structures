{
 "cells": [
  {
   "cell_type": "code",
   "execution_count": 5,
   "id": "66f9f31c",
   "metadata": {},
   "outputs": [],
   "source": [
    "def large_cont_sum(arr):\n",
    "    \n",
    "    # edge case check if the array's length is 0\n",
    "    if len(arr) == 0:\n",
    "        return 0\n",
    "    \n",
    "    max_sum = current_sum = arr[0]\n",
    "    \n",
    "    # skipping first element as it's already included\n",
    "    for num in arr[1:]:\n",
    "        \n",
    "        current_sum = max(current_sum+num, num)\n",
    "        \n",
    "        max_sum = max(current_sum, max_sum)\n",
    "        \n",
    "        print(current_sum, max_sum)\n",
    "        \n",
    "    return max_sum"
   ]
  },
  {
   "cell_type": "code",
   "execution_count": 7,
   "id": "9b2db924",
   "metadata": {},
   "outputs": [
    {
     "name": "stdout",
     "output_type": "stream",
     "text": [
      "3 3\n",
      "2 3\n",
      "5 5\n",
      "9 9\n",
      "19 19\n",
      "29 29\n",
      "19 29\n",
      "18 29\n",
      "82 82\n",
      "166 166\n",
      "171 171\n",
      "121 171\n"
     ]
    },
    {
     "data": {
      "text/plain": [
       "171"
      ]
     },
     "execution_count": 7,
     "metadata": {},
     "output_type": "execute_result"
    }
   ],
   "source": [
    "large_cont_sum([1,2,-1,3,4,10,10,-10,-1,64,84,5,-50])"
   ]
  },
  {
   "cell_type": "code",
   "execution_count": null,
   "id": "c6809978",
   "metadata": {},
   "outputs": [],
   "source": []
  }
 ],
 "metadata": {
  "kernelspec": {
   "display_name": "Python 3 (ipykernel)",
   "language": "python",
   "name": "python3"
  },
  "language_info": {
   "codemirror_mode": {
    "name": "ipython",
    "version": 3
   },
   "file_extension": ".py",
   "mimetype": "text/x-python",
   "name": "python",
   "nbconvert_exporter": "python",
   "pygments_lexer": "ipython3",
   "version": "3.10.4"
  }
 },
 "nbformat": 4,
 "nbformat_minor": 5
}
