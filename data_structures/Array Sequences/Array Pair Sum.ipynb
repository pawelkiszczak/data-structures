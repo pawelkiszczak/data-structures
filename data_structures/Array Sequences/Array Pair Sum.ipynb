{
 "cells": [
  {
   "cell_type": "code",
   "execution_count": 1,
   "id": "5e461093",
   "metadata": {},
   "outputs": [],
   "source": [
    "# Array Pair Sum\n",
    "# Given an integer, output all unique pairs that sum up to a specific value k\n",
    "# so input pair_sum([1,3,2,2], 4) would return 2 pairs:\n",
    "# (1,2), (2,2)"
   ]
  },
  {
   "cell_type": "code",
   "execution_count": 41,
   "id": "8a56eaa4",
   "metadata": {},
   "outputs": [],
   "source": [
    "def pair_sum(arr, k):\n",
    "    result = []\n",
    "\n",
    "    for i in range(0, len(arr)):\n",
    "        for j in range(i+1, len(arr)):\n",
    "            if arr[i] + arr[j] == k:\n",
    "                if [arr[i], arr[j]] not in result and [arr[j], arr[i]] not in result:\n",
    "                    result.append([arr[i], arr[j]])\n",
    "           \n",
    "    return result\n",
    "    "
   ]
  },
  {
   "cell_type": "code",
   "execution_count": 55,
   "id": "fbbc0d72",
   "metadata": {},
   "outputs": [
    {
     "name": "stdout",
     "output_type": "stream",
     "text": [
      "[1, 3]\n",
      "[2, 2]\n"
     ]
    }
   ],
   "source": [
    "arr = [1,2,3,1,2]\n",
    "k = 4\n",
    "\n",
    "result = []\n",
    "\n",
    "for i in range(0, len(arr)):\n",
    "    for j in range(i+1, len(arr)):\n",
    "        if arr[i] + arr[j] == k:\n",
    "            if [arr[i], arr[j]] not in result and [arr[j], arr[i]] not in result:\n",
    "                result.append([arr[i], arr[j]])\n",
    "                         \n",
    "#print(result)\n",
    "print ('\\n'.join(map(str, list(result))))"
   ]
  },
  {
   "cell_type": "code",
   "execution_count": 44,
   "id": "603a4d50",
   "metadata": {},
   "outputs": [
    {
     "data": {
      "text/plain": [
       "[[1, 2], [-2, 5], [-1, 4]]"
      ]
     },
     "execution_count": 44,
     "metadata": {},
     "output_type": "execute_result"
    }
   ],
   "source": [
    "pair_sum([1,2,3,1,2,-2,-4,-3,-1,4,5], 3)"
   ]
  },
  {
   "cell_type": "code",
   "execution_count": 52,
   "id": "5ab5bd11",
   "metadata": {},
   "outputs": [],
   "source": [
    "# Suggested solution  \n",
    "def pair_(arr, k):\n",
    "    \n",
    "    if len(arr)<2:\n",
    "        return\n",
    "    \n",
    "    # Sets for tracking\n",
    "    seen = set()\n",
    "    output = set()\n",
    "    \n",
    "    for num in arr:\n",
    "        \n",
    "        # setting the value we're looking for to fit current num value from array\n",
    "        target = k-num\n",
    "        \n",
    "        # if target value is not in seen numbers, add it\n",
    "        if target not in seen:\n",
    "            seen.add(num)\n",
    "        \n",
    "        # if it is in seen numbers, add both num and target to the output in specific order\n",
    "        else:\n",
    "            output.add((min(num, target)), max(num, target))\n",
    "            \n",
    "    print ('\\n'.join(map(str, list(output))))\n",
    "    #return output    "
   ]
  },
  {
   "cell_type": "code",
   "execution_count": 51,
   "id": "79551904",
   "metadata": {},
   "outputs": [
    {
     "data": {
      "text/plain": [
       "[[1, 2], [-2, 5], [-1, 4]]"
      ]
     },
     "execution_count": 51,
     "metadata": {},
     "output_type": "execute_result"
    }
   ],
   "source": [
    "pair_sum([1,2,3,1,2,-2,-4,-3,-1,4,5], 3)"
   ]
  },
  {
   "cell_type": "code",
   "execution_count": null,
   "id": "c96d9c77",
   "metadata": {},
   "outputs": [],
   "source": []
  }
 ],
 "metadata": {
  "kernelspec": {
   "display_name": "Python 3 (ipykernel)",
   "language": "python",
   "name": "python3"
  },
  "language_info": {
   "codemirror_mode": {
    "name": "ipython",
    "version": 3
   },
   "file_extension": ".py",
   "mimetype": "text/x-python",
   "name": "python",
   "nbconvert_exporter": "python",
   "pygments_lexer": "ipython3",
   "version": "3.10.4"
  }
 },
 "nbformat": 4,
 "nbformat_minor": 5
}
