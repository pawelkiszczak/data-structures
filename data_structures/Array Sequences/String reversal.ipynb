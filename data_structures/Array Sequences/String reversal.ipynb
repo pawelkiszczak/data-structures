{
 "cells": [
  {
   "cell_type": "code",
   "execution_count": null,
   "id": "4eb7bb88",
   "metadata": {},
   "outputs": [],
   "source": [
    "# String Reversal\n",
    "# Given a string of words, reverse all the words.\n",
    "# For example:\n",
    "# Input: This is the best\n",
    "# Output: best the is This\n",
    "\n",
    "# As a part of an exercise you should remove all leading and trailing whitespace\n",
    "# Therefore input like '   white space' or 'white  space    ' should output \n",
    "# 'space white'"
   ]
  },
  {
   "cell_type": "code",
   "execution_count": null,
   "id": "12dc8dfb",
   "metadata": {},
   "outputs": [],
   "source": [
    "# a bit cheesy solution as it uses [::-1] trick\n",
    "def rev_words(sentence):\n",
    "    temp = sentence.split(\" \")\n",
    "    return print(\" \".join(temp[::-1]))"
   ]
  },
  {
   "cell_type": "code",
   "execution_count": 5,
   "id": "27b349eb",
   "metadata": {},
   "outputs": [
    {
     "data": {
      "text/plain": [
       "'best the is is T'"
      ]
     },
     "execution_count": 5,
     "metadata": {},
     "output_type": "execute_result"
    }
   ],
   "source": [
    "rev_words2('T     is is the best       ')"
   ]
  },
  {
   "cell_type": "code",
   "execution_count": null,
   "id": "6477fad9",
   "metadata": {},
   "outputs": [],
   "source": [
    "# regular solution without fancy Python tricks\n",
    "def rev_words(sentence):\n",
    "        \n",
    "    result = []\n",
    "    \n",
    "    sentence = sentence.split()\n",
    "    #print(sentence)\n",
    "    \n",
    "    for num in range(len(sentence)-1, -1, -1):\n",
    "        result.append(sentence[num])\n",
    "        #print()\n",
    "        \n",
    "    print(\" \".join(result))"
   ]
  },
  {
   "cell_type": "code",
   "execution_count": 3,
   "id": "e51d425a",
   "metadata": {},
   "outputs": [],
   "source": [
    "# suggested solution\n",
    "def rev_words2(s):\n",
    "    \n",
    "    words = []\n",
    "    length = len(s)\n",
    "    space = ' '\n",
    "    \n",
    "    i = 0\n",
    "    \n",
    "    while i < length:\n",
    "        \n",
    "        if s[i] != space:\n",
    "            word_start = i\n",
    "            \n",
    "            while i < length and s[i] != space:\n",
    "                i += 1\n",
    "                \n",
    "            words.append(s[word_start:i])\n",
    "            \n",
    "        i += 1\n",
    "    \n",
    "    return \" \".join(reversed(words))"
   ]
  },
  {
   "cell_type": "code",
   "execution_count": null,
   "id": "a451dae4",
   "metadata": {},
   "outputs": [],
   "source": []
  }
 ],
 "metadata": {
  "kernelspec": {
   "display_name": "Python 3 (ipykernel)",
   "language": "python",
   "name": "python3"
  },
  "language_info": {
   "codemirror_mode": {
    "name": "ipython",
    "version": 3
   },
   "file_extension": ".py",
   "mimetype": "text/x-python",
   "name": "python",
   "nbconvert_exporter": "python",
   "pygments_lexer": "ipython3",
   "version": "3.10.4"
  }
 },
 "nbformat": 4,
 "nbformat_minor": 5
}
