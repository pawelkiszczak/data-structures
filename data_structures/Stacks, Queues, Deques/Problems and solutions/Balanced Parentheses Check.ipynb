{
 "cells": [
  {
   "cell_type": "code",
   "execution_count": 1,
   "id": "d524453e",
   "metadata": {},
   "outputs": [],
   "source": [
    "# Balance Parentheses Check\n",
    "# Given a string of opening and closing parentheses, check whether it's balanced\n",
    "# We use 3 types: (), [] and {}. Assume that string does not contain any other character than these\n",
    "# As a reminder, balanced parentheses require closing them in reverse order that they were opened\n",
    "\n",
    "# Example: '([])' is balanced, but '([)' is not balanced\n",
    "\n",
    "# Assume the input has no spaces"
   ]
  },
  {
   "cell_type": "code",
   "execution_count": 2,
   "id": "e9b35760",
   "metadata": {},
   "outputs": [],
   "source": [
    "# it can be valid solution, however not always\n",
    "\n",
    "def balance_check(s):\n",
    "    \n",
    "    left = 0\n",
    "    right = 0\n",
    "    \n",
    "    for let in s:\n",
    "        if let == '(' or let == '[' or let == '{':\n",
    "            left += 1\n",
    "        else:\n",
    "            right += 1\n",
    "            \n",
    "    if left == right:\n",
    "        return True\n",
    "    \n",
    "    return False"
   ]
  },
  {
   "cell_type": "code",
   "execution_count": 9,
   "id": "d9ec183a",
   "metadata": {},
   "outputs": [
    {
     "data": {
      "text/plain": [
       "False"
      ]
     },
     "execution_count": 9,
     "metadata": {},
     "output_type": "execute_result"
    }
   ],
   "source": [
    "balance_check('[][{]}')"
   ]
  },
  {
   "cell_type": "code",
   "execution_count": 8,
   "id": "e040e3e1",
   "metadata": {},
   "outputs": [],
   "source": [
    "# Suggested solution\n",
    "\n",
    "def balance_check(s):\n",
    "    \n",
    "    # if number is odd\n",
    "    if len(s) % 2 != 0:\n",
    "        return False\n",
    "    \n",
    "    # creating a set of opening brackets\n",
    "    opening = set('([{')\n",
    "    \n",
    "    # creating a set of matching parentheses\n",
    "    matches = set([('(',')'), ('[',']'), ('{','}')])\n",
    "    \n",
    "    # stack for work with\n",
    "    stack = []\n",
    "    \n",
    "    for paren in s:\n",
    "        \n",
    "        # is symbol is opening parentheses\n",
    "        if paren in opening:\n",
    "            stack.append(paren)\n",
    "        \n",
    "        else:\n",
    "            \n",
    "            # if nothing in stack -> unbalanced\n",
    "            if len(stack) == 0:\n",
    "                return False\n",
    "            \n",
    "            # checking last opened parentheses\n",
    "            last_open = stack.pop()\n",
    "            \n",
    "            # if does not match -> unbalanced\n",
    "            if (last_open, paren) not in matches:\n",
    "                return False\n",
    "            \n",
    "    return len(stack) == 0"
   ]
  },
  {
   "cell_type": "code",
   "execution_count": null,
   "id": "276e6c10",
   "metadata": {},
   "outputs": [],
   "source": []
  }
 ],
 "metadata": {
  "kernelspec": {
   "display_name": "Python 3 (ipykernel)",
   "language": "python",
   "name": "python3"
  },
  "language_info": {
   "codemirror_mode": {
    "name": "ipython",
    "version": 3
   },
   "file_extension": ".py",
   "mimetype": "text/x-python",
   "name": "python",
   "nbconvert_exporter": "python",
   "pygments_lexer": "ipython3",
   "version": "3.10.4"
  }
 },
 "nbformat": 4,
 "nbformat_minor": 5
}
