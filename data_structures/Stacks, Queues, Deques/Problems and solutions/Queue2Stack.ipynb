{
 "cells": [
  {
   "cell_type": "code",
   "execution_count": 1,
   "id": "814d413b",
   "metadata": {},
   "outputs": [],
   "source": [
    "# Given the Stack class below, implement a Queue class using two stacks\n",
    "# Use a Python list data structure a your Stack"
   ]
  },
  {
   "cell_type": "code",
   "execution_count": 3,
   "id": "4ce6bfaf",
   "metadata": {},
   "outputs": [],
   "source": [
    "# Using lists instead of your own Stack class\\\n",
    "stack1 = []\n",
    "stack2 = []"
   ]
  },
  {
   "cell_type": "code",
   "execution_count": 54,
   "id": "3996f914",
   "metadata": {},
   "outputs": [],
   "source": [
    "class Queue2Stack(object):\n",
    "    \n",
    "    def __init__(self):\n",
    "        # Two Stacks\n",
    "        \n",
    "        # stack1 = 'forward' stack\n",
    "        self.stack1 = []\n",
    "        \n",
    "        # stack2 = 'reverse' stack\n",
    "        self.stack2 = []\n",
    "        \n",
    "    def enqueue(self, element):\n",
    "        self.stack1.append(element)\n",
    "        #print(self.stack1)\n",
    "    \n",
    "    def dequeue(self):\n",
    "        for i in range(0, len(self.stack1)):\n",
    "            self.stack2.append(self.stack1.pop())\n",
    "            \n",
    "        #print(self.stack1)\n",
    "        #print(self.stack2)\n",
    "            \n",
    "        return self.stack2.pop()\n",
    "        "
   ]
  },
  {
   "cell_type": "code",
   "execution_count": 55,
   "id": "350fc9af",
   "metadata": {},
   "outputs": [],
   "source": [
    "q = Queue2Stack()"
   ]
  },
  {
   "cell_type": "code",
   "execution_count": 58,
   "id": "6fbebd3f",
   "metadata": {},
   "outputs": [],
   "source": [
    "for i in range(5):\n",
    "    q.enqueue(i)"
   ]
  },
  {
   "cell_type": "code",
   "execution_count": 59,
   "id": "35227793",
   "metadata": {},
   "outputs": [
    {
     "name": "stdout",
     "output_type": "stream",
     "text": [
      "0\n",
      "1\n",
      "2\n",
      "3\n",
      "4\n"
     ]
    }
   ],
   "source": [
    "for i in range(5):\n",
    "    print(q.dequeue())"
   ]
  },
  {
   "cell_type": "code",
   "execution_count": null,
   "id": "ac22f33a",
   "metadata": {},
   "outputs": [],
   "source": []
  }
 ],
 "metadata": {
  "kernelspec": {
   "display_name": "Python 3 (ipykernel)",
   "language": "python",
   "name": "python3"
  },
  "language_info": {
   "codemirror_mode": {
    "name": "ipython",
    "version": 3
   },
   "file_extension": ".py",
   "mimetype": "text/x-python",
   "name": "python",
   "nbconvert_exporter": "python",
   "pygments_lexer": "ipython3",
   "version": "3.10.4"
  }
 },
 "nbformat": 4,
 "nbformat_minor": 5
}
