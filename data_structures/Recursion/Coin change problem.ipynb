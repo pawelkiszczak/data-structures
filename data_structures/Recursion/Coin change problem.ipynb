{
 "cells": [
  {
   "cell_type": "code",
   "execution_count": 1,
   "id": "0028db1c",
   "metadata": {},
   "outputs": [],
   "source": [
    "# Given a target amount n and a list (array) of distinct coin values\n",
    "# what's the fewest coins needed to make the change amount"
   ]
  },
  {
   "cell_type": "code",
   "execution_count": 2,
   "id": "11ebcd47",
   "metadata": {},
   "outputs": [],
   "source": [
    "# basic solution however not optimal as may loop lots of times\n",
    "def rec_coin(target, coins):\n",
    "    \n",
    "    # default value set to target\n",
    "    min_coins = target\n",
    "    \n",
    "    # target in coin values list?\n",
    "    if target in coins:\n",
    "        return 1\n",
    "    \n",
    "    else:\n",
    "        \n",
    "        # for every coin value that is <= targe value\n",
    "        for i in [c for c in coins if c <= target]:\n",
    "            \n",
    "            # add a coin count + recursive\n",
    "            num_coins = 1 + rec_coin(target-i, coins)\n",
    "            \n",
    "            # check if new num_coins less than min_coins\n",
    "            if num_coins < min_coins:\n",
    "                \n",
    "                min_coins = num_coins\n",
    "    \n",
    "    return min_coins"
   ]
  },
  {
   "cell_type": "code",
   "execution_count": 4,
   "id": "d02d7d51",
   "metadata": {
    "collapsed": true
   },
   "outputs": [
    {
     "ename": "KeyboardInterrupt",
     "evalue": "",
     "output_type": "error",
     "traceback": [
      "\u001b[0;31m---------------------------------------------------------------------------\u001b[0m",
      "\u001b[0;31mKeyboardInterrupt\u001b[0m                         Traceback (most recent call last)",
      "Cell \u001b[0;32mIn [4], line 1\u001b[0m\n\u001b[0;32m----> 1\u001b[0m \u001b[43mrec_coin\u001b[49m\u001b[43m(\u001b[49m\u001b[38;5;241;43m52\u001b[39;49m\u001b[43m,\u001b[49m\u001b[43m \u001b[49m\u001b[43m[\u001b[49m\u001b[38;5;241;43m1\u001b[39;49m\u001b[43m,\u001b[49m\u001b[38;5;241;43m2\u001b[39;49m\u001b[43m,\u001b[49m\u001b[38;5;241;43m10\u001b[39;49m\u001b[43m,\u001b[49m\u001b[43m \u001b[49m\u001b[38;5;241;43m25\u001b[39;49m\u001b[43m]\u001b[49m\u001b[43m)\u001b[49m\n",
      "Cell \u001b[0;32mIn [2], line 16\u001b[0m, in \u001b[0;36mrec_coin\u001b[0;34m(target, coins)\u001b[0m\n\u001b[1;32m     10\u001b[0m \u001b[38;5;28;01melse\u001b[39;00m:\n\u001b[1;32m     11\u001b[0m     \n\u001b[1;32m     12\u001b[0m     \u001b[38;5;66;03m# for every coin value that is <= targe value\u001b[39;00m\n\u001b[1;32m     13\u001b[0m     \u001b[38;5;28;01mfor\u001b[39;00m i \u001b[38;5;129;01min\u001b[39;00m [c \u001b[38;5;28;01mfor\u001b[39;00m c \u001b[38;5;129;01min\u001b[39;00m coins \u001b[38;5;28;01mif\u001b[39;00m c \u001b[38;5;241m<\u001b[39m\u001b[38;5;241m=\u001b[39m target]:\n\u001b[1;32m     14\u001b[0m         \n\u001b[1;32m     15\u001b[0m         \u001b[38;5;66;03m# add a coin count + recursive\u001b[39;00m\n\u001b[0;32m---> 16\u001b[0m         num_coins \u001b[38;5;241m=\u001b[39m \u001b[38;5;241m1\u001b[39m \u001b[38;5;241m+\u001b[39m \u001b[43mrec_coin\u001b[49m\u001b[43m(\u001b[49m\u001b[43mtarget\u001b[49m\u001b[38;5;241;43m-\u001b[39;49m\u001b[43mi\u001b[49m\u001b[43m,\u001b[49m\u001b[43m \u001b[49m\u001b[43mcoins\u001b[49m\u001b[43m)\u001b[49m\n\u001b[1;32m     18\u001b[0m         \u001b[38;5;66;03m# check if new num_coins less than min_coins\u001b[39;00m\n\u001b[1;32m     19\u001b[0m         \u001b[38;5;28;01mif\u001b[39;00m num_coins \u001b[38;5;241m<\u001b[39m min_coins:\n",
      "Cell \u001b[0;32mIn [2], line 16\u001b[0m, in \u001b[0;36mrec_coin\u001b[0;34m(target, coins)\u001b[0m\n\u001b[1;32m     10\u001b[0m \u001b[38;5;28;01melse\u001b[39;00m:\n\u001b[1;32m     11\u001b[0m     \n\u001b[1;32m     12\u001b[0m     \u001b[38;5;66;03m# for every coin value that is <= targe value\u001b[39;00m\n\u001b[1;32m     13\u001b[0m     \u001b[38;5;28;01mfor\u001b[39;00m i \u001b[38;5;129;01min\u001b[39;00m [c \u001b[38;5;28;01mfor\u001b[39;00m c \u001b[38;5;129;01min\u001b[39;00m coins \u001b[38;5;28;01mif\u001b[39;00m c \u001b[38;5;241m<\u001b[39m\u001b[38;5;241m=\u001b[39m target]:\n\u001b[1;32m     14\u001b[0m         \n\u001b[1;32m     15\u001b[0m         \u001b[38;5;66;03m# add a coin count + recursive\u001b[39;00m\n\u001b[0;32m---> 16\u001b[0m         num_coins \u001b[38;5;241m=\u001b[39m \u001b[38;5;241m1\u001b[39m \u001b[38;5;241m+\u001b[39m \u001b[43mrec_coin\u001b[49m\u001b[43m(\u001b[49m\u001b[43mtarget\u001b[49m\u001b[38;5;241;43m-\u001b[39;49m\u001b[43mi\u001b[49m\u001b[43m,\u001b[49m\u001b[43m \u001b[49m\u001b[43mcoins\u001b[49m\u001b[43m)\u001b[49m\n\u001b[1;32m     18\u001b[0m         \u001b[38;5;66;03m# check if new num_coins less than min_coins\u001b[39;00m\n\u001b[1;32m     19\u001b[0m         \u001b[38;5;28;01mif\u001b[39;00m num_coins \u001b[38;5;241m<\u001b[39m min_coins:\n",
      "    \u001b[0;31m[... skipping similar frames: rec_coin at line 16 (34 times)]\u001b[0m\n",
      "Cell \u001b[0;32mIn [2], line 16\u001b[0m, in \u001b[0;36mrec_coin\u001b[0;34m(target, coins)\u001b[0m\n\u001b[1;32m     10\u001b[0m \u001b[38;5;28;01melse\u001b[39;00m:\n\u001b[1;32m     11\u001b[0m     \n\u001b[1;32m     12\u001b[0m     \u001b[38;5;66;03m# for every coin value that is <= targe value\u001b[39;00m\n\u001b[1;32m     13\u001b[0m     \u001b[38;5;28;01mfor\u001b[39;00m i \u001b[38;5;129;01min\u001b[39;00m [c \u001b[38;5;28;01mfor\u001b[39;00m c \u001b[38;5;129;01min\u001b[39;00m coins \u001b[38;5;28;01mif\u001b[39;00m c \u001b[38;5;241m<\u001b[39m\u001b[38;5;241m=\u001b[39m target]:\n\u001b[1;32m     14\u001b[0m         \n\u001b[1;32m     15\u001b[0m         \u001b[38;5;66;03m# add a coin count + recursive\u001b[39;00m\n\u001b[0;32m---> 16\u001b[0m         num_coins \u001b[38;5;241m=\u001b[39m \u001b[38;5;241m1\u001b[39m \u001b[38;5;241m+\u001b[39m \u001b[43mrec_coin\u001b[49m\u001b[43m(\u001b[49m\u001b[43mtarget\u001b[49m\u001b[38;5;241;43m-\u001b[39;49m\u001b[43mi\u001b[49m\u001b[43m,\u001b[49m\u001b[43m \u001b[49m\u001b[43mcoins\u001b[49m\u001b[43m)\u001b[49m\n\u001b[1;32m     18\u001b[0m         \u001b[38;5;66;03m# check if new num_coins less than min_coins\u001b[39;00m\n\u001b[1;32m     19\u001b[0m         \u001b[38;5;28;01mif\u001b[39;00m num_coins \u001b[38;5;241m<\u001b[39m min_coins:\n",
      "Cell \u001b[0;32mIn [2], line 1\u001b[0m, in \u001b[0;36mrec_coin\u001b[0;34m(target, coins)\u001b[0m\n\u001b[0;32m----> 1\u001b[0m \u001b[38;5;28;01mdef\u001b[39;00m \u001b[38;5;21mrec_coin\u001b[39m(target, coins):\n\u001b[1;32m      2\u001b[0m     \n\u001b[1;32m      3\u001b[0m     \u001b[38;5;66;03m# default value set to target\u001b[39;00m\n\u001b[1;32m      4\u001b[0m     min_coins \u001b[38;5;241m=\u001b[39m target\n\u001b[1;32m      6\u001b[0m     \u001b[38;5;66;03m# target in coin values list?\u001b[39;00m\n",
      "\u001b[0;31mKeyboardInterrupt\u001b[0m: "
     ]
    }
   ],
   "source": [
    "rec_coin(52, [1,2,10, 25])"
   ]
  },
  {
   "cell_type": "code",
   "execution_count": 11,
   "id": "04ae797d",
   "metadata": {},
   "outputs": [],
   "source": [
    "# dynamic programming solution with memoization\n",
    "def rec_coin_dynam(target, coins, known_results):\n",
    "    \n",
    "    # default output to target\n",
    "    min_coins = target\n",
    "    \n",
    "    # base case\n",
    "    if target in coins:\n",
    "        known_results[target] = 1\n",
    "        return 1\n",
    "    \n",
    "    # return a known result if it happens to be greater than 1\n",
    "    elif known_results[target] > 0:\n",
    "        return known_results[target]\n",
    "    \n",
    "    else:\n",
    "        \n",
    "            # for every coin value that is <= target\n",
    "            for i in [c for c in coins if c <= target]:\n",
    "                num_coins = 1 + rec_coin_dynam(target-i, coins, known_results)\n",
    "                \n",
    "                if num_coins < min_coins:\n",
    "                    min_coins = num_coins\n",
    "                    \n",
    "                    # reset that known result\n",
    "                    known_results[target] = min_coins\n",
    "                    \n",
    "    return min_coins"
   ]
  },
  {
   "cell_type": "code",
   "execution_count": 12,
   "id": "289d5774",
   "metadata": {},
   "outputs": [
    {
     "data": {
      "text/plain": [
       "8"
      ]
     },
     "execution_count": 12,
     "metadata": {},
     "output_type": "execute_result"
    }
   ],
   "source": [
    "target = 74\n",
    "coins = [1,5,10,25]\n",
    "known_results = [0]*(target+1)\n",
    "\n",
    "rec_coin_dynam(target, coins, known_results)"
   ]
  },
  {
   "cell_type": "code",
   "execution_count": null,
   "id": "c2cf9977",
   "metadata": {},
   "outputs": [],
   "source": []
  }
 ],
 "metadata": {
  "kernelspec": {
   "display_name": "Python 3 (ipykernel)",
   "language": "python",
   "name": "python3"
  },
  "language_info": {
   "codemirror_mode": {
    "name": "ipython",
    "version": 3
   },
   "file_extension": ".py",
   "mimetype": "text/x-python",
   "name": "python",
   "nbconvert_exporter": "python",
   "pygments_lexer": "ipython3",
   "version": "3.10.4"
  }
 },
 "nbformat": 4,
 "nbformat_minor": 5
}
