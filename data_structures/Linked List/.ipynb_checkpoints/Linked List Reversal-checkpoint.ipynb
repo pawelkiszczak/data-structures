{
 "cells": [
  {
   "cell_type": "markdown",
   "id": "e10a1b15",
   "metadata": {},
   "source": [
    "## Problem"
   ]
  },
  {
   "cell_type": "markdown",
   "id": "c76c8653",
   "metadata": {},
   "source": [
    "Write a function to reverse a Linked List in place. The function will take in the head of the list as input and return the new head of the list.\n",
    "<br>\n",
    "You are given the example Linked List Node class:"
   ]
  },
  {
   "cell_type": "code",
   "execution_count": 1,
   "id": "fb12d4f2",
   "metadata": {},
   "outputs": [],
   "source": [
    "class Node(object):\n",
    "    \n",
    "    def __init__ (self, value):\n",
    "        self.value = value\n",
    "        self.nextnode = None"
   ]
  },
  {
   "cell_type": "markdown",
   "id": "e6ee0c3b",
   "metadata": {},
   "source": [
    "## Solution"
   ]
  },
  {
   "cell_type": "code",
   "execution_count": 2,
   "id": "98c7adff",
   "metadata": {},
   "outputs": [],
   "source": [
    "# preparing a list\n",
    "a = Node(1)\n",
    "b = Node(2)\n",
    "c = Node(3)\n",
    "d = Node(4)\n",
    "\n",
    "a.nextnode = b\n",
    "b.nextnode = c\n",
    "c.nextnode = d"
   ]
  },
  {
   "cell_type": "code",
   "execution_count": 3,
   "id": "c80bb138",
   "metadata": {},
   "outputs": [],
   "source": [
    "def reverse(head):\n",
    "    \n",
    "    # setting up 2 markers to move in linked list\n",
    "    marker1 = head\n",
    "    marker2 = head\n",
    "    \n",
    "    # result linked list that we fill with reversed order\n",
    "    result = head\n",
    "    \n",
    "    # finding the last node\n",
    "    while marker2.nextnode != None:\n",
    "        marker2 = marker2.nextnode        \n",
    "\n",
    "    # finding node that's second to last\n",
    "    while marker1.nextnode != marker2:\n",
    "        marker1 = marker1.nextnode\n",
    "        \n",
    "    result = marker2\n",
    "    result.nextnode = marker1\n",
    "    \n",
    "    marker1.nextnode = None\n",
    "    \n",
    "    print(marker1.value, marker2.value)\n",
    "    print(result.value, result.nextnode.value)"
   ]
  },
  {
   "cell_type": "code",
   "execution_count": 5,
   "id": "6fba8fed",
   "metadata": {},
   "outputs": [],
   "source": [
    "def reverse(head):\n",
    "    \n",
    "    # setting up a marker to traverse\n",
    "    marker1 = head\n",
    "    \n",
    "    # counter to get number of nodes\n",
    "    counter = 1\n",
    "    \n",
    "    # result to be returned\n",
    "    result = head\n",
    "    \n",
    "    # finding the last node\n",
    "    while marker1.nextnode != None:\n",
    "        marker1 = marker1.nextnode\n",
    "        counter += 1\n",
    "    \n",
    "    # append the last marker as the first one\n",
    "    result.value = marker1.value\n",
    "    \n",
    "    # one assignment done\n",
    "    counter -= 1\n",
    "    \n",
    "    while counter > 0:\n",
    "        marker1 = head\n",
    "        print(marker1.value)\n",
    "        while result.value != marker1.nextnode.value:\n",
    "            marker1 = marker1.nextnode\n",
    "            print('marker1: {}', marker1.value)\n",
    "        \n",
    "        \n",
    "        result.nextnode = marker1\n",
    "        counter -= 1\n",
    "        \n",
    "    print('done')\n",
    "    return result\n",
    "    \n",
    "    "
   ]
  },
  {
   "cell_type": "code",
   "execution_count": 6,
   "id": "b603e746",
   "metadata": {},
   "outputs": [
    {
     "name": "stdout",
     "output_type": "stream",
     "text": [
      "3\n",
      "marker1: {} 2\n",
      "3\n",
      "marker1: {} 2\n",
      "done\n"
     ]
    }
   ],
   "source": [
    "r = reverse(a)"
   ]
  },
  {
   "cell_type": "code",
   "execution_count": null,
   "id": "dc97d6b4",
   "metadata": {},
   "outputs": [],
   "source": [
    "r.nextnode.nextnode.value"
   ]
  },
  {
   "cell_type": "code",
   "execution_count": null,
   "id": "f6cf03a9",
   "metadata": {},
   "outputs": [],
   "source": []
  }
 ],
 "metadata": {
  "kernelspec": {
   "display_name": "Python 3 (ipykernel)",
   "language": "python",
   "name": "python3"
  },
  "language_info": {
   "codemirror_mode": {
    "name": "ipython",
    "version": 3
   },
   "file_extension": ".py",
   "mimetype": "text/x-python",
   "name": "python",
   "nbconvert_exporter": "python",
   "pygments_lexer": "ipython3",
   "version": "3.10.4"
  }
 },
 "nbformat": 4,
 "nbformat_minor": 5
}
