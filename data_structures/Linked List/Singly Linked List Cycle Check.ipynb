{
 "cells": [
  {
   "cell_type": "markdown",
   "id": "c516376d",
   "metadata": {},
   "source": [
    "## Problem"
   ]
  },
  {
   "cell_type": "markdown",
   "id": "ccbf8692",
   "metadata": {},
   "source": [
    "Given a singly linked list, write a function which takes in the fist node in a single linked list and return a boolean indicating if the linked list contains <i>a cycle</i>.\n",
    "<br>\n",
    "A cycle is when a node's next point actually points back to a previous node in the list. This is also known as a circularly linked list.\n",
    "\n",
    "You've been given the Linked List Node class:"
   ]
  },
  {
   "cell_type": "code",
   "execution_count": 1,
   "id": "48345c15",
   "metadata": {},
   "outputs": [],
   "source": [
    "class Node(object):\n",
    "    def __init__(self, value):\n",
    "        self.value = value\n",
    "        self.nextnode = None"
   ]
  },
  {
   "cell_type": "markdown",
   "id": "c751f157",
   "metadata": {},
   "source": [
    "## Solution"
   ]
  },
  {
   "cell_type": "code",
   "execution_count": 32,
   "id": "0294e868",
   "metadata": {},
   "outputs": [],
   "source": [
    "# defining a linked list that's circular\n",
    "a = Node(1)\n",
    "b = Node(2)\n",
    "c = Node(3)\n",
    "\n",
    "a.nextnode = b\n",
    "b.nextnode = c\n",
    "c.nextnode = a"
   ]
  },
  {
   "cell_type": "code",
   "execution_count": 46,
   "id": "fb835ae0",
   "metadata": {},
   "outputs": [],
   "source": [
    "# defininf a linked list with specified end\n",
    "x = Node(1)\n",
    "y = Node(2)\n",
    "z = Node(3)\n",
    "\n",
    "x.nextnode = y\n",
    "y.nextnode = z"
   ]
  },
  {
   "cell_type": "code",
   "execution_count": 47,
   "id": "ae180799",
   "metadata": {},
   "outputs": [],
   "source": [
    "def ifCycle(node: Node):\n",
    "    \n",
    "    marker1 = node\n",
    "    marker2 = node\n",
    "    \n",
    "    while marker2 != None and marker2.nextnode != None:\n",
    "        marker1 = marker1.nextnode\n",
    "        marker2 = marker2.nextnode.nextnode\n",
    "        \n",
    "        if marker2 == marker1:\n",
    "            return True\n",
    "    \n",
    "    return False  \n",
    "        \n",
    "    "
   ]
  },
  {
   "cell_type": "code",
   "execution_count": 48,
   "id": "f3717129",
   "metadata": {},
   "outputs": [
    {
     "data": {
      "text/plain": [
       "True"
      ]
     },
     "execution_count": 48,
     "metadata": {},
     "output_type": "execute_result"
    }
   ],
   "source": [
    "ifCycle(a)"
   ]
  },
  {
   "cell_type": "code",
   "execution_count": null,
   "id": "0c0b9f8c",
   "metadata": {},
   "outputs": [],
   "source": []
  }
 ],
 "metadata": {
  "kernelspec": {
   "display_name": "Python 3 (ipykernel)",
   "language": "python",
   "name": "python3"
  },
  "language_info": {
   "codemirror_mode": {
    "name": "ipython",
    "version": 3
   },
   "file_extension": ".py",
   "mimetype": "text/x-python",
   "name": "python",
   "nbconvert_exporter": "python",
   "pygments_lexer": "ipython3",
   "version": "3.10.4"
  }
 },
 "nbformat": 4,
 "nbformat_minor": 5
}
