{
 "cells": [
  {
   "cell_type": "markdown",
   "id": "ec22c469",
   "metadata": {},
   "source": [
    "## Problem"
   ]
  },
  {
   "cell_type": "markdown",
   "id": "f7efe072",
   "metadata": {},
   "source": [
    "Write a function to reverse a Linked List in place. The function will take in the head of the list as input and return the new head of the list.\n",
    "<br>\n",
    "You are given the example Linked List Node class:"
   ]
  },
  {
   "cell_type": "code",
   "execution_count": 7,
   "id": "f6c6abb0",
   "metadata": {},
   "outputs": [],
   "source": [
    "class Node(object):\n",
    "    \n",
    "    def __init__ (self, value):\n",
    "        self.value = value\n",
    "        self.nextnode = None"
   ]
  },
  {
   "cell_type": "markdown",
   "id": "b78ad1e4",
   "metadata": {},
   "source": [
    "## Solution"
   ]
  },
  {
   "cell_type": "code",
   "execution_count": 8,
   "id": "dde0778a",
   "metadata": {},
   "outputs": [],
   "source": [
    "# preparing a list\n",
    "a = Node(1)\n",
    "b = Node(2)\n",
    "c = Node(3)\n",
    "d = Node(4)\n",
    "\n",
    "a.nextnode = b\n",
    "b.nextnode = c\n",
    "c.nextnode = d"
   ]
  },
  {
   "cell_type": "code",
   "execution_count": 3,
   "id": "c849d4f4",
   "metadata": {},
   "outputs": [],
   "source": [
    "# first try - failed\n",
    "def reverse(head):\n",
    "    \n",
    "    # setting up 2 markers to move in linked list\n",
    "    marker1 = head\n",
    "    marker2 = head\n",
    "    \n",
    "    # result linked list that we fill with reversed order\n",
    "    result = head\n",
    "    \n",
    "    # finding the last node\n",
    "    while marker2.nextnode != None:\n",
    "        marker2 = marker2.nextnode        \n",
    "\n",
    "    # finding node that's second to last\n",
    "    while marker1.nextnode != marker2:\n",
    "        marker1 = marker1.nextnode\n",
    "        \n",
    "    result = marker2\n",
    "    result.nextnode = marker1\n",
    "    \n",
    "    marker1.nextnode = None\n",
    "    \n",
    "    print(marker1.value, marker2.value)\n",
    "    print(result.value, result.nextnode.value)"
   ]
  },
  {
   "cell_type": "code",
   "execution_count": 5,
   "id": "368a03e8",
   "metadata": {},
   "outputs": [],
   "source": [
    "# second tr - failed\n",
    "def reverse(head):\n",
    "    \n",
    "    # setting up a marker to traverse\n",
    "    marker1 = head\n",
    "    \n",
    "    # counter to get number of nodes\n",
    "    counter = 1\n",
    "    \n",
    "    # result to be returned\n",
    "    result = head\n",
    "    \n",
    "    # finding the last node\n",
    "    while marker1.nextnode != None:\n",
    "        marker1 = marker1.nextnode\n",
    "        counter += 1\n",
    "    \n",
    "    # append the last marker as the first one\n",
    "    result.value = marker1.value\n",
    "    \n",
    "    # one assignment done\n",
    "    counter -= 1\n",
    "    \n",
    "    while counter > 0:\n",
    "        marker1 = head\n",
    "        print(marker1.value)\n",
    "        while result.value != marker1.nextnode.value:\n",
    "            marker1 = marker1.nextnode\n",
    "            print('marker1: {}', marker1.value)\n",
    "        \n",
    "        \n",
    "        result.nextnode = marker1\n",
    "        counter -= 1\n",
    "        \n",
    "    print('done')\n",
    "    return result\n",
    "    \n",
    "    "
   ]
  },
  {
   "cell_type": "code",
   "execution_count": 16,
   "id": "b0c81f76",
   "metadata": {},
   "outputs": [],
   "source": [
    "# third time (supported) - succeded\n",
    "def reverse(head):\n",
    "    \n",
    "    # it's necessary to store current, previous and next node to reverse \n",
    "    # the list in one go\n",
    "    \n",
    "    next_node = None\n",
    "    prev_node = None\n",
    "    \n",
    "    # assigning head to current node varibale\n",
    "    current_node = head\n",
    "    \n",
    "    while current_node:\n",
    "        \n",
    "        next_node = current_node.nextnode\n",
    "        current_node.nextnode = prev_node\n",
    "        \n",
    "        prev_node = current_node\n",
    "        current_node = next_node   \n",
    "        \n",
    "    return prev_node\n",
    "    "
   ]
  },
  {
   "cell_type": "code",
   "execution_count": 34,
   "id": "2ab2ea83",
   "metadata": {},
   "outputs": [
    {
     "data": {
      "text/plain": [
       "4"
      ]
     },
     "execution_count": 34,
     "metadata": {},
     "output_type": "execute_result"
    }
   ],
   "source": [
    "d.value"
   ]
  },
  {
   "cell_type": "code",
   "execution_count": 29,
   "id": "3c2395c7",
   "metadata": {},
   "outputs": [
    {
     "data": {
      "text/plain": [
       "3"
      ]
     },
     "execution_count": 29,
     "metadata": {},
     "output_type": "execute_result"
    }
   ],
   "source": [
    "d.nextnode.value"
   ]
  },
  {
   "cell_type": "code",
   "execution_count": 30,
   "id": "5f57da14",
   "metadata": {},
   "outputs": [
    {
     "data": {
      "text/plain": [
       "2"
      ]
     },
     "execution_count": 30,
     "metadata": {},
     "output_type": "execute_result"
    }
   ],
   "source": [
    "d.nextnode.nextnode.value"
   ]
  },
  {
   "cell_type": "code",
   "execution_count": 31,
   "id": "12c03f4b",
   "metadata": {},
   "outputs": [
    {
     "data": {
      "text/plain": [
       "1"
      ]
     },
     "execution_count": 31,
     "metadata": {},
     "output_type": "execute_result"
    }
   ],
   "source": [
    "d.nextnode.nextnode.nextnode.value"
   ]
  },
  {
   "cell_type": "code",
   "execution_count": 32,
   "id": "e30975a5",
   "metadata": {},
   "outputs": [
    {
     "ename": "AttributeError",
     "evalue": "'NoneType' object has no attribute 'value'",
     "output_type": "error",
     "traceback": [
      "\u001b[0;31m---------------------------------------------------------------------------\u001b[0m",
      "\u001b[0;31mAttributeError\u001b[0m                            Traceback (most recent call last)",
      "Cell \u001b[0;32mIn [32], line 1\u001b[0m\n\u001b[0;32m----> 1\u001b[0m \u001b[43md\u001b[49m\u001b[38;5;241;43m.\u001b[39;49m\u001b[43mnextnode\u001b[49m\u001b[38;5;241;43m.\u001b[39;49m\u001b[43mnextnode\u001b[49m\u001b[38;5;241;43m.\u001b[39;49m\u001b[43mnextnode\u001b[49m\u001b[38;5;241;43m.\u001b[39;49m\u001b[43mnextnode\u001b[49m\u001b[38;5;241;43m.\u001b[39;49m\u001b[43mvalue\u001b[49m\n",
      "\u001b[0;31mAttributeError\u001b[0m: 'NoneType' object has no attribute 'value'"
     ]
    }
   ],
   "source": [
    "d.nextnode.nextnode.nextnode.nextnode.value"
   ]
  }
 ],
 "metadata": {
  "kernelspec": {
   "display_name": "Python 3 (ipykernel)",
   "language": "python",
   "name": "python3"
  },
  "language_info": {
   "codemirror_mode": {
    "name": "ipython",
    "version": 3
   },
   "file_extension": ".py",
   "mimetype": "text/x-python",
   "name": "python",
   "nbconvert_exporter": "python",
   "pygments_lexer": "ipython3",
   "version": "3.10.4"
  }
 },
 "nbformat": 4,
 "nbformat_minor": 5
}
