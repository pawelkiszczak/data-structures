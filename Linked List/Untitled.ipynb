{
 "cells": [
  {
   "cell_type": "markdown",
   "id": "6b12f1be",
   "metadata": {},
   "source": [
    "## Linked list N-th to Last Node"
   ]
  },
  {
   "cell_type": "code",
   "execution_count": 1,
   "id": "e306f54e",
   "metadata": {},
   "outputs": [],
   "source": [
    "# Write a function that takes a head node and an integer value n\n",
    "# and then returns n-th to last node in the linked list"
   ]
  },
  {
   "cell_type": "code",
   "execution_count": 4,
   "id": "6b96f844",
   "metadata": {
    "collapsed": true
   },
   "outputs": [
    {
     "ename": "NameError",
     "evalue": "name 'nth_to_last_node' is not defined",
     "output_type": "error",
     "traceback": [
      "\u001b[0;31m---------------------------------------------------------------------------\u001b[0m",
      "\u001b[0;31mNameError\u001b[0m                                 Traceback (most recent call last)",
      "Cell \u001b[0;32mIn [4], line 19\u001b[0m\n\u001b[1;32m     16\u001b[0m d\u001b[38;5;241m.\u001b[39mnextnode \u001b[38;5;241m=\u001b[39m e\n\u001b[1;32m     18\u001b[0m \u001b[38;5;66;03m# this would return the node d with a value of 4, because it's the 2nd to last\u001b[39;00m\n\u001b[0;32m---> 19\u001b[0m target_node \u001b[38;5;241m=\u001b[39m \u001b[43mnth_to_last_node\u001b[49m(\u001b[38;5;241m2\u001b[39m, a)\n",
      "\u001b[0;31mNameError\u001b[0m: name 'nth_to_last_node' is not defined"
     ]
    }
   ],
   "source": [
    "# Example:\n",
    "class Node:\n",
    "    def __init__(self, value):\n",
    "        self.value = value\n",
    "        self.nextnode = None\n",
    "        \n",
    "a = Node(1)\n",
    "b = Node(2)\n",
    "c = Node(3)\n",
    "d = Node(4)\n",
    "e = Node(5)\n",
    "\n",
    "a.nextnode = b\n",
    "b.nextnode = c\n",
    "c.nextnode = d\n",
    "d.nextnode = e\n",
    "\n",
    "# this would return the node d with a value of 4, because it's the 2nd to last\n",
    "target_node = nth_to_last_node(2, a)"
   ]
  },
  {
   "cell_type": "code",
   "execution_count": 18,
   "id": "4c5d7d1c",
   "metadata": {},
   "outputs": [],
   "source": [
    "# with usage of an array\n",
    "def nth_to_last_node(value, head):\n",
    "    \n",
    "    table = []\n",
    "    current = head\n",
    "    \n",
    "    while current:\n",
    "        table.append(current.value)\n",
    "        current = current.nextnode\n",
    "    \n",
    "    return table[len(table)-value]      "
   ]
  },
  {
   "cell_type": "code",
   "execution_count": 21,
   "id": "449c6376",
   "metadata": {},
   "outputs": [
    {
     "data": {
      "text/plain": [
       "4"
      ]
     },
     "execution_count": 21,
     "metadata": {},
     "output_type": "execute_result"
    }
   ],
   "source": [
    "nth_to_last_node(2, a)"
   ]
  },
  {
   "cell_type": "code",
   "execution_count": 32,
   "id": "c96051f3",
   "metadata": {},
   "outputs": [],
   "source": [
    "# without extra tools, only linked list\n",
    "def nth_to_last_node(value, head):\n",
    "    \n",
    "    current = head\n",
    "    counter = 0\n",
    "    \n",
    "    while current:\n",
    "        counter +=1 \n",
    "        current = current.nextnode\n",
    "        \n",
    "    current = head\n",
    "    \n",
    "    if value > counter:\n",
    "        print('List is not that big!')\n",
    "        return False\n",
    "    \n",
    "    for i in range(0, counter-value):\n",
    "        current = current.nextnode\n",
    "        \n",
    "    print(current.value)"
   ]
  },
  {
   "cell_type": "code",
   "execution_count": 35,
   "id": "e19ef97a",
   "metadata": {},
   "outputs": [
    {
     "name": "stdout",
     "output_type": "stream",
     "text": [
      "3\n"
     ]
    }
   ],
   "source": [
    "nth_to_last_node(3,a)"
   ]
  },
  {
   "cell_type": "code",
   "execution_count": 38,
   "id": "b17ea71b",
   "metadata": {},
   "outputs": [],
   "source": [
    "# solution suggested in class\n",
    "# usage of two pointers as a 'window' \n",
    "# which is as wide as 'value' so nth to last\n",
    "\n",
    "def nth_to_last_node(value, head):\n",
    "    \n",
    "    left_pointer = head\n",
    "    right_pointer = head\n",
    "    distance = value\n",
    "    \n",
    "    while distance:\n",
    "        right_pointer = right_pointer.nextnode\n",
    "        distance -= 1\n",
    "    \n",
    "    while right_pointer:\n",
    "        right_pointer = right_pointer.nextnode\n",
    "        left_pointer = left_pointer.nextnode\n",
    "   \n",
    "    return left_pointer.value"
   ]
  },
  {
   "cell_type": "code",
   "execution_count": 39,
   "id": "72699dbb",
   "metadata": {},
   "outputs": [
    {
     "name": "stdout",
     "output_type": "stream",
     "text": [
      "4\n"
     ]
    }
   ],
   "source": [
    "nth_to_last_node(2,a)"
   ]
  },
  {
   "cell_type": "code",
   "execution_count": null,
   "id": "dd8e6908",
   "metadata": {},
   "outputs": [],
   "source": []
  }
 ],
 "metadata": {
  "kernelspec": {
   "display_name": "Python 3 (ipykernel)",
   "language": "python",
   "name": "python3"
  },
  "language_info": {
   "codemirror_mode": {
    "name": "ipython",
    "version": 3
   },
   "file_extension": ".py",
   "mimetype": "text/x-python",
   "name": "python",
   "nbconvert_exporter": "python",
   "pygments_lexer": "ipython3",
   "version": "3.10.4"
  }
 },
 "nbformat": 4,
 "nbformat_minor": 5
}
