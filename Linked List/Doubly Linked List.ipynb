{
 "cells": [
  {
   "cell_type": "code",
   "execution_count": 1,
   "id": "7164e9d9",
   "metadata": {},
   "outputs": [],
   "source": [
    "class DoubleLinkedListNode(object):\n",
    "    \n",
    "    def __init__(self, value):\n",
    "        self.value = value\n",
    "        self.next_node = None\n",
    "        self.prev_node = None"
   ]
  },
  {
   "cell_type": "code",
   "execution_count": 2,
   "id": "98aa2b26",
   "metadata": {},
   "outputs": [],
   "source": [
    "a = DoubleLinkedListNode(1)\n",
    "b = DoubleLinkedListNode(2)\n",
    "c = DoubleLinkedListNode(3)"
   ]
  },
  {
   "cell_type": "code",
   "execution_count": 3,
   "id": "3a33a40e",
   "metadata": {},
   "outputs": [],
   "source": [
    "a.next_node = b\n",
    "b.prev_node = a"
   ]
  },
  {
   "cell_type": "code",
   "execution_count": 4,
   "id": "658bd736",
   "metadata": {},
   "outputs": [],
   "source": [
    "b.next_node = c\n",
    "c.prev_node = b"
   ]
  },
  {
   "cell_type": "code",
   "execution_count": null,
   "id": "3f5cd5b3",
   "metadata": {},
   "outputs": [],
   "source": []
  }
 ],
 "metadata": {
  "kernelspec": {
   "display_name": "Python 3 (ipykernel)",
   "language": "python",
   "name": "python3"
  },
  "language_info": {
   "codemirror_mode": {
    "name": "ipython",
    "version": 3
   },
   "file_extension": ".py",
   "mimetype": "text/x-python",
   "name": "python",
   "nbconvert_exporter": "python",
   "pygments_lexer": "ipython3",
   "version": "3.10.4"
  }
 },
 "nbformat": 4,
 "nbformat_minor": 5
}
