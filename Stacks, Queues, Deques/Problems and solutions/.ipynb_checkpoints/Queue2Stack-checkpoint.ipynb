{
 "cells": [
  {
   "cell_type": "code",
   "execution_count": 1,
   "id": "6d3efe40",
   "metadata": {},
   "outputs": [],
   "source": [
    "# Given the Stack class below, implement a Queue class using two stacks\n",
    "# Use a Python list data structure a your Stack"
   ]
  },
  {
   "cell_type": "code",
   "execution_count": 3,
   "id": "3d68ac53",
   "metadata": {},
   "outputs": [],
   "source": [
    "# Using lists instead of your own Stack class\\\n",
    "stack1 = []\n",
    "stack2 = []"
   ]
  },
  {
   "cell_type": "code",
   "execution_count": null,
   "id": "f408bdaf",
   "metadata": {},
   "outputs": [],
   "source": []
  },
  {
   "cell_type": "code",
   "execution_count": null,
   "id": "bb1879ec",
   "metadata": {},
   "outputs": [],
   "source": []
  }
 ],
 "metadata": {
  "kernelspec": {
   "display_name": "Python 3 (ipykernel)",
   "language": "python",
   "name": "python3"
  },
  "language_info": {
   "codemirror_mode": {
    "name": "ipython",
    "version": 3
   },
   "file_extension": ".py",
   "mimetype": "text/x-python",
   "name": "python",
   "nbconvert_exporter": "python",
   "pygments_lexer": "ipython3",
   "version": "3.10.4"
  }
 },
 "nbformat": 4,
 "nbformat_minor": 5
}
